{
 "cells": [
  {
   "cell_type": "markdown",
   "metadata": {},
   "source": [
    "# Car Reviews Classification"
   ]
  },
  {
   "cell_type": "code",
   "execution_count": 407,
   "metadata": {},
   "outputs": [],
   "source": [
    "import pandas as pd\n",
    "import numpy as np\n",
    "from sklearn.model_selection import train_test_split\n",
    "from collections import Counter"
   ]
  },
  {
   "cell_type": "code",
   "execution_count": 408,
   "metadata": {},
   "outputs": [],
   "source": [
    "car_reviews = pd.read_csv('car-reviews.csv')"
   ]
  },
  {
   "cell_type": "code",
   "execution_count": 409,
   "metadata": {},
   "outputs": [
    {
     "data": {
      "text/html": [
       "<div>\n",
       "<style scoped>\n",
       "    .dataframe tbody tr th:only-of-type {\n",
       "        vertical-align: middle;\n",
       "    }\n",
       "\n",
       "    .dataframe tbody tr th {\n",
       "        vertical-align: top;\n",
       "    }\n",
       "\n",
       "    .dataframe thead th {\n",
       "        text-align: right;\n",
       "    }\n",
       "</style>\n",
       "<table border=\"1\" class=\"dataframe\">\n",
       "  <thead>\n",
       "    <tr style=\"text-align: right;\">\n",
       "      <th></th>\n",
       "      <th>Sentiment</th>\n",
       "      <th>Review</th>\n",
       "    </tr>\n",
       "  </thead>\n",
       "  <tbody>\n",
       "    <tr>\n",
       "      <th>0</th>\n",
       "      <td>Neg</td>\n",
       "      <td>In 1992 we bought a new Taurus and we really ...</td>\n",
       "    </tr>\n",
       "    <tr>\n",
       "      <th>1</th>\n",
       "      <td>Neg</td>\n",
       "      <td>The last business trip  I drove to San Franci...</td>\n",
       "    </tr>\n",
       "    <tr>\n",
       "      <th>2</th>\n",
       "      <td>Neg</td>\n",
       "      <td>My husband and I purchased a 1990 Ford F250 a...</td>\n",
       "    </tr>\n",
       "    <tr>\n",
       "      <th>3</th>\n",
       "      <td>Neg</td>\n",
       "      <td>I feel I have a thorough opinion of this truc...</td>\n",
       "    </tr>\n",
       "    <tr>\n",
       "      <th>4</th>\n",
       "      <td>Neg</td>\n",
       "      <td>AS a mother of 3  all of whom are still in ca...</td>\n",
       "    </tr>\n",
       "  </tbody>\n",
       "</table>\n",
       "</div>"
      ],
      "text/plain": [
       "  Sentiment                                             Review\n",
       "0       Neg   In 1992 we bought a new Taurus and we really ...\n",
       "1       Neg   The last business trip  I drove to San Franci...\n",
       "2       Neg   My husband and I purchased a 1990 Ford F250 a...\n",
       "3       Neg   I feel I have a thorough opinion of this truc...\n",
       "4       Neg   AS a mother of 3  all of whom are still in ca..."
      ]
     },
     "execution_count": 409,
     "metadata": {},
     "output_type": "execute_result"
    }
   ],
   "source": [
    "car_reviews.head()"
   ]
  },
  {
   "cell_type": "markdown",
   "metadata": {},
   "source": [
    "# Part 1"
   ]
  },
  {
   "cell_type": "markdown",
   "metadata": {},
   "source": [
    "Demonstrate that words and punctuation, which are unlikely to affect sentiment, have been excluded from the sentiment classifier AND that the remaining words are not being handled in a case sensitive way.\n"
   ]
  },
  {
   "cell_type": "code",
   "execution_count": 410,
   "metadata": {},
   "outputs": [],
   "source": [
    "import string\n",
    "import nltk\n",
    "from nltk.stem.porter import *\n",
    "import spacy\n",
    "\n",
    "\n",
    "\n",
    "'''Function that takes in a column and returns the vocabulary found'''\n",
    "\n",
    "def processTextColumn(column):\n",
    "    corpus = []\n",
    "    all_stems = []\n",
    "    stems_per_review = []\n",
    "    stem_duplicates = []\n",
    "    docs = []\n",
    "    polarities = []\n",
    "    \n",
    "    spacy_nlp = spacy.load('en_core_web_sm')\n",
    "    spacy_stopwords = spacy.lang.en.stop_words.STOP_WORDS\n",
    "    \n",
    "    for text in column: \n",
    "        review_stems = ''\n",
    "        doc = spacy_nlp(text)\n",
    "        \n",
    "        text = strip(text)\n",
    "        for t in text: \n",
    "            stem = getStem(t)\n",
    "            if stem not in review_stems: \n",
    "                review_stems += stem + ' '\n",
    "            if t not in spacy_stopwords:\n",
    "                if t not in corpus: \n",
    "                    corpus.append(t)\n",
    "                if stem not in all_stems: \n",
    "                    all_stems.append(stem)\n",
    "                else: \n",
    "                    stem_duplicates.append(t)\n",
    "                    \n",
    "        docs.append(doc)\n",
    "        stems_per_review.append(review_stems)\n",
    "\n",
    "    return corpus, all_stems, docs, stem_duplicates, stems_per_review\n",
    "    \n",
    "'''\n",
    "A Method to Strip a block of text of punctuation and return each word as a token\n",
    "'''\n",
    "def strip(text):\n",
    "    output = [x.lower() for x in text.translate(str.maketrans('', '', string.punctuation)).split()]\n",
    "    return output\n",
    "\n",
    "'''\n",
    "A Method that taskes in a word and returns the appropriate stem for that word, ensuring we appropraitely recognise and treat \n",
    "treat words of the same stem as the same\n",
    "'''\n",
    "\n",
    "def getStem(t):\n",
    "    stemmer = PorterStemmer()\n",
    "    return stemmer.stem(t)\n",
    "    "
   ]
  },
  {
   "cell_type": "code",
   "execution_count": 411,
   "metadata": {},
   "outputs": [],
   "source": [
    "corpus, stems, docs, stem_duplicates, stems_per_review = processTextColumn(car_reviews['Review'])"
   ]
  },
  {
   "cell_type": "code",
   "execution_count": 412,
   "metadata": {},
   "outputs": [
    {
     "data": {
      "text/plain": [
       "16612"
      ]
     },
     "execution_count": 412,
     "metadata": {},
     "output_type": "execute_result"
    }
   ],
   "source": [
    "len(corpus)"
   ]
  },
  {
   "cell_type": "code",
   "execution_count": 413,
   "metadata": {},
   "outputs": [
    {
     "data": {
      "text/plain": [
       "10916"
      ]
     },
     "execution_count": 413,
     "metadata": {},
     "output_type": "execute_result"
    }
   ],
   "source": [
    "len(stems)"
   ]
  },
  {
   "cell_type": "code",
   "execution_count": 414,
   "metadata": {},
   "outputs": [
    {
     "data": {
      "text/plain": [
       "{'1992': ['1992', '1992s'],\n",
       " 'bought': ['bought'],\n",
       " 'new': ['new'],\n",
       " 'tauru': ['taurus'],\n",
       " 'love': ['loved', 'love', 'lovely', 'loves', 'loving'],\n",
       " '1999': ['1999', '1999s'],\n",
       " 'decid': ['decided', 'decide', 'decides', 'deciding'],\n",
       " 'tri': ['try', 'trying', 'tried', 'tries', 'tryed', 'tri'],\n",
       " 'care': ['care', 'careful', 'cared', 'carefully', 'cares', 'caring'],\n",
       " 'style': ['style', 'styling', 'styled', 'styles', 'stylings'],\n",
       " 'newer': ['newer'],\n",
       " 'version': ['version', 'versions'],\n",
       " 'like': ['like', 'liked', 'likely', 'liking', 'likeness', 'likes'],\n",
       " 'car': ['car', 'cars', 'carring'],\n",
       " 'half': ['half'],\n",
       " 'thee': ['thee'],\n",
       " 'dash': ['dash', 'dashes'],\n",
       " 'deep': ['deep', 'deepness'],\n",
       " 'take': ['takes', 'taking'],\n",
       " 'lot': ['lot', 'lots'],\n",
       " 'room': ['room'],\n",
       " 'find': ['find', 'finding', 'finds', 'findings'],\n",
       " 'seat': ['seats', 'seat', 'seating', 'seated'],\n",
       " 'comfort': ['comfortable',\n",
       "  'comfort',\n",
       "  'comforts',\n",
       "  'comfortably',\n",
       "  'comforting'],\n",
       " 'way': ['way', 'ways'],\n",
       " 'side': ['sides', 'sided', 'siding'],\n",
       " 'stick': ['stick', 'sticking', 'sticks'],\n",
       " 'strip': ['strip', 'stripped', 'stripping', 'strips'],\n",
       " 'protect': ['protect',\n",
       "  'protecting',\n",
       "  'protection',\n",
       "  'protects',\n",
       "  'protective',\n",
       "  'protected'],\n",
       " 'card': ['card', 'cards'],\n",
       " 'dent': ['denting', 'dents', 'dent', 'dented'],\n",
       " 'drive': ['drives', 'driving', 'drive'],\n",
       " 'nice': ['nice', 'nicely'],\n",
       " 'good': ['good', 'goodness', 'goods'],\n",
       " 'pick': ['pick', 'picked', 'picking', 'picks'],\n",
       " 'hood': ['hood'],\n",
       " 'driver': ['driver', 'drivers'],\n",
       " 'judg': ['judging', 'judge', 'judged'],\n",
       " 'park': ['parking', 'park', 'parked'],\n",
       " 'difficult': ['difficult'],\n",
       " 'small': ['small'],\n",
       " 'ga': ['gas', 'ga'],\n",
       " 'tank': ['tank', 'tanks'],\n",
       " 'buy': ['buy', 'buys', 'buying'],\n",
       " 'dont': ['dont'],\n",
       " 'think': ['think', 'thinking', 'thinks'],\n",
       " 'mistak': ['mistake', 'mistakes', 'mistaking'],\n",
       " 'chang': ['change', 'changed', 'changes', 'changing'],\n",
       " 'month': ['month', 'months', 'monthes'],\n",
       " 'dead': ['dead'],\n",
       " 'batteri': ['battery', 'batteries'],\n",
       " 'flat': ['flat'],\n",
       " 'tire': ['tire', 'tires', 'tired', 'tiring'],\n",
       " 'busi': ['business', 'busy', 'businesses'],\n",
       " 'trip': ['trip', 'trips', 'tripped', 'tripping'],\n",
       " 'drove': ['drove'],\n",
       " 'san': ['san'],\n",
       " 'francisco': ['francisco'],\n",
       " 'went': ['went'],\n",
       " 'hertz': ['hertz', 'hertzs'],\n",
       " 'rental': ['rentals', 'rental'],\n",
       " 'got': ['got'],\n",
       " 'ford': ['ford', 'fords'],\n",
       " 'look': ['looked', 'looking', 'look', 'looks'],\n",
       " 'profession': ['professional',\n",
       "  'professionally',\n",
       "  'professionalism',\n",
       "  'professionals'],\n",
       " 'found': ['found'],\n",
       " 'uncomfort': ['uncomfortable', 'uncomfortably'],\n",
       " 'passeng': ['passenger', 'passengers'],\n",
       " 'import': ['important', 'import', 'importance', 'imports'],\n",
       " 'fuel': ['fuel', 'fuels', 'fuelings', 'fueling'],\n",
       " 'usag': ['usage'],\n",
       " 'fine': ['fine', 'finely'],\n",
       " 'problem': ['problems', 'problem'],\n",
       " 'ride': ['ride', 'rides', 'riding'],\n",
       " 'hard': ['hard'],\n",
       " 'fit': ['fit', 'fits', 'fitted', 'fitting', 'fittings'],\n",
       " '5': ['5'],\n",
       " 'weigh': ['weigh', 'weighs', 'weighed', 'weighing'],\n",
       " '115': ['115'],\n",
       " 'pound': ['pounds', 'pound', 'pounding', 'pounded'],\n",
       " 'usual': ['usually', 'usual'],\n",
       " 'especi': ['especially'],\n",
       " 'rent': ['renting', 'rented', 'rent', 'rents'],\n",
       " 'long': ['long', 'longing', 'longed'],\n",
       " 'suggest': ['suggest',\n",
       "  'suggested',\n",
       "  'suggestions',\n",
       "  'suggesting',\n",
       "  'suggests',\n",
       "  'suggestion'],\n",
       " 'list': ['list', 'listing', 'listed', 'lists', 'listings'],\n",
       " 'sure': ['sure', 'surely'],\n",
       " 'larg': ['large', 'largely', 'larges'],\n",
       " 'trunk': ['trunk', 'trunks'],\n",
       " 'allow': ['allowed',\n",
       "  'allows',\n",
       "  'allow',\n",
       "  'allowing',\n",
       "  'allowance',\n",
       "  'allowances'],\n",
       " 'pack': ['pack', 'packed', 'packs', 'packing'],\n",
       " 'materi': ['materials', 'materialism', 'material'],\n",
       " 'need': ['needed', 'need', 'needs', 'needing'],\n",
       " 'end': ['end', 'ending', 'ended', 'ends'],\n",
       " 'breez': ['breeze', 'breezes'],\n",
       " 'work': ['worked', 'work', 'works', 'working', 'workings'],\n",
       " 'right': ['right', 'rights'],\n",
       " 'complaint': ['complaints', 'complaint'],\n",
       " 'standard': ['standard', 'standards', 'standardized'],\n",
       " 'make': ['making', 'makes'],\n",
       " 'area': ['area', 'areas'],\n",
       " 'distract': ['distracting', 'distraction', 'distracted', 'distract'],\n",
       " 'unnecessarili': ['unnecessarily'],\n",
       " 'longer': ['longer'],\n",
       " 'felt': ['felt'],\n",
       " 'saturn': ['saturn', 'saturns'],\n",
       " 'better': ['better', 'betters'],\n",
       " 'choic': ['choice', 'choices'],\n",
       " 'model': ['model', 'models', 'modeled'],\n",
       " 'offer': ['offers', 'offering', 'offered', 'offer', 'offerings'],\n",
       " 'simpli': ['simply'],\n",
       " 'plan': ['planning', 'plan', 'plans', 'planned'],\n",
       " 'intend': ['intend', 'intended'],\n",
       " 'check': ['check', 'checked', 'checking', 'checks'],\n",
       " 'trial': ['trial'],\n",
       " 'basi': ['basis'],\n",
       " 'thing': ['thing', 'things'],\n",
       " 'happen': ['happening', 'happened', 'happen', 'happens', 'happenned'],\n",
       " 'husband': ['husband', 'husbands'],\n",
       " 'purchas': ['purchased', 'purchasing', 'purchase', 'purchases', 'purchasers'],\n",
       " '1990': ['1990', '1990s'],\n",
       " 'f250': ['f250', 'f250s'],\n",
       " 'own': ['owned', 'owning', 'owns'],\n",
       " 'vehicl': ['vehicle', 'vehicles'],\n",
       " 'approxim': ['approximately',\n",
       "  'approximate',\n",
       "  'approximation',\n",
       "  'approximating',\n",
       "  'approximates'],\n",
       " 'year': ['years', 'year'],\n",
       " 'spent': ['spent'],\n",
       " 'time': ['time', 'times', 'timing', 'timely'],\n",
       " 'shop': ['shop', 'shopping', 'shops', 'shopped'],\n",
       " 'valv': ['valve', 'valves', 'valving'],\n",
       " 'cover': ['covers', 'cover', 'covered', 'covering', 'coverings'],\n",
       " 'leak': ['leaking', 'leaks', 'leak', 'leaked'],\n",
       " 'took': ['took'],\n",
       " 'day': ['days', 'day'],\n",
       " 'mechan': ['mechanic',\n",
       "  'mechanical',\n",
       "  'mechanism',\n",
       "  'mechanics',\n",
       "  'mechanically',\n",
       "  'mechanicals',\n",
       "  'mechanisms'],\n",
       " 'dealership': ['dealership', 'dealerships'],\n",
       " 'replac': ['replace',\n",
       "  'replaced',\n",
       "  'replacement',\n",
       "  'replacing',\n",
       "  'replaces',\n",
       "  'replacements'],\n",
       " 'part': ['parts', 'parting', 'parted'],\n",
       " 'addit': ['additional', 'addition', 'additionally', 'additions'],\n",
       " 'week': ['week', 'weeks'],\n",
       " 'poor': ['poor', 'poors'],\n",
       " 'design': ['design',\n",
       "  'designed',\n",
       "  'designated',\n",
       "  'designing',\n",
       "  'designers',\n",
       "  'designs',\n",
       "  'designer',\n",
       "  'designate'],\n",
       " 'fix': ['fixing', 'fix', 'fixes', 'fixed', 'fixings'],\n",
       " 'cheap': ['cheap'],\n",
       " 'serpentin': ['serpentine'],\n",
       " 'belt': ['belt', 'belts'],\n",
       " 'came': ['came'],\n",
       " 'pulley': ['pulleys', 'pulley'],\n",
       " 'shear': ['sheared', 'shear'],\n",
       " 'air': ['air', 'aires', 'airing'],\n",
       " 'condit': ['conditioning', 'conditions', 'condition'],\n",
       " 'power': ['power', 'powerful', 'powered', 'powers', 'powering'],\n",
       " 'plug': ['plug', 'plugs', 'plugged'],\n",
       " 'nearli': ['nearly'],\n",
       " 'caus': ['cause', 'causing', 'causes', 'caused'],\n",
       " 'unknown': ['unknown'],\n",
       " 'clean': ['clean', 'cleaned', 'cleaning', 'cleanings', 'cleans'],\n",
       " 'pump': ['pump', 'pumps', 'pumping', 'pumped'],\n",
       " 'broke': ['broke'],\n",
       " 'truck': ['truck', 'trucks', 'trucking'],\n",
       " 'didnt': ['didnt'],\n",
       " 'realiz': ['realize',\n",
       "  'realized',\n",
       "  'realization',\n",
       "  'realizing',\n",
       "  'realizes',\n",
       "  'realizations'],\n",
       " 'hook': ['hooked', 'hooks', 'hook', 'hooking'],\n",
       " 'hose': ['hose', 'hoses', 'hosed'],\n",
       " 'transmiss': ['transmission', 'transmissions'],\n",
       " 'rebuilt': ['rebuilt'],\n",
       " 'unavail': ['unavailable'],\n",
       " 'old': ['old', 'olds'],\n",
       " 'mate': ['mated', 'mate', 'mates'],\n",
       " 'junk': ['junk', 'junked'],\n",
       " 'yard': ['yard', 'yards'],\n",
       " 'transfer': ['transfer', 'transferred', 'transfers'],\n",
       " 'case': ['case', 'cases', 'casing'],\n",
       " 'repair': ['repair', 'repairs', 'repaired', 'repairing', 'repairable'],\n",
       " 'vibrat': ['vibrates',\n",
       "  'vibration',\n",
       "  'vibrate',\n",
       "  'vibrations',\n",
       "  'vibrating',\n",
       "  'vibrated'],\n",
       " '70': ['70', '70s'],\n",
       " 'mile': ['miles', 'mile'],\n",
       " 'hour': ['hour', 'hours'],\n",
       " '1700': ['1700'],\n",
       " 'balanc': ['balancing', 'balance', 'balancer', 'balanced', 'balances'],\n",
       " 'etc': ['etc'],\n",
       " 'help': ['help', 'helping', 'helps', 'helped', 'helpful'],\n",
       " 'situat': ['situation', 'situations', 'situated', 'situational'],\n",
       " 'second': ['second', 'seconds'],\n",
       " '98': ['98', '98s'],\n",
       " '000': ['000'],\n",
       " 'expect': ['expected',\n",
       "  'expect',\n",
       "  'expecting',\n",
       "  'expectations',\n",
       "  'expections',\n",
       "  'expectancy',\n",
       "  'expects',\n",
       "  'expectation',\n",
       "  'expectable'],\n",
       " 'wrong': ['wrong'],\n",
       " 'said': ['said'],\n",
       " '200': ['200'],\n",
       " 'motor': ['motors', 'motor', 'motoring', 'motorized'],\n",
       " 'notic': ['noticed',\n",
       "  'notice',\n",
       "  'noticeable',\n",
       "  'noticeably',\n",
       "  'notices',\n",
       "  'noticing',\n",
       "  'noticeing',\n",
       "  'noticable'],\n",
       " 'loss': ['loss', 'losses'],\n",
       " 'began': ['began'],\n",
       " 'costli': ['costly'],\n",
       " 'diagnost': ['diagnostics', 'diagnostic'],\n",
       " 'mileag': ['mileage', 'mileages'],\n",
       " 'point': ['point', 'points', 'pointed', 'pointing'],\n",
       " '10mpg': ['10mpg'],\n",
       " 'increas': ['increasing', 'increase', 'increased', 'increases'],\n",
       " 'continu': ['continued',\n",
       "  'continues',\n",
       "  'continue',\n",
       "  'continuing',\n",
       "  'continually',\n",
       "  'continueally',\n",
       "  'continual',\n",
       "  'continuously',\n",
       "  'continuous',\n",
       "  'continuation'],\n",
       " 'till': ['till'],\n",
       " 'present': ['present', 'presently', 'presenting', 'presented', 'presents'],\n",
       " 'date': ['date', 'dated', 'dating'],\n",
       " 'mount': ['mounted', 'mounts', 'mount', 'mounting'],\n",
       " 'discontinu': ['discontinued', 'discontinuing', 'discontinue'],\n",
       " 'close': ['close', 'closed', 'closely', 'closing', 'closes', 'closeness'],\n",
       " 'ive': ['ive'],\n",
       " 'feel': ['feel', 'feeling', 'feels', 'feelings'],\n",
       " 'thorough': ['thorough'],\n",
       " 'opinion': ['opinion', 'opinions'],\n",
       " 'compar': ['compared',\n",
       "  'comparable',\n",
       "  'compare',\n",
       "  'comparing',\n",
       "  'comparably',\n",
       "  'compares',\n",
       "  'comparatively'],\n",
       " 'post': ['post', 'posted', 'posting', 'postings', 'posts'],\n",
       " 'evalu': ['evaluations', 'evaluate', 'evaluation', 'evaluating'],\n",
       " 'current': ['currently', 'current'],\n",
       " '75k': ['75k'],\n",
       " 'meticul': ['meticulous', 'meticulously'],\n",
       " 'mainten': ['maintenance', 'maintenence'],\n",
       " 'treat': ['treating', 'treated', 'treat'],\n",
       " 'normal': ['normal', 'normally'],\n",
       " 'duti': ['duty', 'duties', 'dutiful'],\n",
       " 'activ': ['activities',\n",
       "  'active',\n",
       "  'activate',\n",
       "  'actively',\n",
       "  'activated',\n",
       "  'activity',\n",
       "  'activator',\n",
       "  'activates',\n",
       "  'activating'],\n",
       " 'exceed': ['exceeding', 'exceed', 'exceeded'],\n",
       " 'manufactur': ['manufacturers',\n",
       "  'manufacturer',\n",
       "  'manufacturing',\n",
       "  'manufacture',\n",
       "  'manufactured',\n",
       "  'manufactures'],\n",
       " 'recommend': ['recommendations',\n",
       "  'recommend',\n",
       "  'recommended',\n",
       "  'recommendation',\n",
       "  'recommending',\n",
       "  'recommends'],\n",
       " 'inform': ['information',\n",
       "  'informed',\n",
       "  'informing',\n",
       "  'inform',\n",
       "  'informs',\n",
       "  'informal'],\n",
       " 'excess': ['excessive', 'excess', 'excessively'],\n",
       " 'inspect': ['inspection', 'inspect', 'inspected', 'inspections'],\n",
       " '15': ['15', '15s'],\n",
       " 'sept': ['sept'],\n",
       " '2003': ['2003', '2003s'],\n",
       " 'refer': ['reference', 'referred', 'referring', 'refers', 'refer'],\n",
       " 'warranti': ['warranties', 'warranty', 'warrantys'],\n",
       " 'extend': ['extended', 'extend', 'extender', 'extending', 'extends'],\n",
       " 'welcom': ['welcome', 'welcomed'],\n",
       " 'feedback': ['feedback'],\n",
       " '2000': ['2000', '2000s'],\n",
       " 'f150': ['f150', 'f150s'],\n",
       " '4l': ['4l'],\n",
       " '4x4': ['4x4', '4x4s'],\n",
       " 'xlt': ['xlt', 'xlts'],\n",
       " 'w': ['w'],\n",
       " 'road': ['road', 'roads', 'roading'],\n",
       " 'tow': ['tow', 'towed', 'towing', 'tows'],\n",
       " 'packag': ['package', 'packages', 'packaged', 'packaging'],\n",
       " '17': ['17', '17s'],\n",
       " 'rim': ['rims', 'rim', 'rimmed'],\n",
       " 'factori': ['factory', 'factories'],\n",
       " 'instal': ['install',\n",
       "  'installed',\n",
       "  'installation',\n",
       "  'installing',\n",
       "  'installer',\n",
       "  'installs'],\n",
       " 'option': ['options', 'optional', 'option', 'optioned'],\n",
       " 'includ': ['included', 'include', 'including', 'includes', 'includeing'],\n",
       " 'bumper': ['bumper', 'bumpers'],\n",
       " 'coverag': ['coverage'],\n",
       " '50': ['50', '50s'],\n",
       " 'deduct': ['deductible',\n",
       "  'deducted',\n",
       "  'deducting',\n",
       "  'deductibles',\n",
       "  'deduction',\n",
       "  'deductions'],\n",
       " 'occurr': ['occurrence'],\n",
       " 'taken': ['taken'],\n",
       " 'signific': ['significant', 'significance'],\n",
       " 'weight': ['weight', 'weights', 'weighted'],\n",
       " 'inappropri': ['inappropriately', 'inappropriate'],\n",
       " '400': ['400'],\n",
       " 'door': ['door', 'doors'],\n",
       " 'lock': ['lock', 'locks', 'locked', 'locking'],\n",
       " 'fail': ['failed', 'fail', 'failing', 'fails'],\n",
       " 'ab': ['abs'],\n",
       " 'light': ['light', 'lights', 'lighted', 'lighting', 'lightness'],\n",
       " 'turn': ['turned', 'turns', 'turning', 'turn'],\n",
       " 'brought': ['brought'],\n",
       " 'dealer': ['dealer', 'dealers'],\n",
       " 'squeek': ['squeeking', 'squeeks', 'squeek', 'squeeked'],\n",
       " 'thought': ['thought', 'thoughts', 'thoughtfully', 'thoughtful'],\n",
       " '1': ['1'],\n",
       " '4': ['4'],\n",
       " 'tie': ['tie', 'tying', 'tied', 'ties'],\n",
       " 'rod': ['rods', 'rod'],\n",
       " 'inner': ['inners', 'inner'],\n",
       " 'outer': ['outers', 'outer'],\n",
       " 'bad': ['bad'],\n",
       " '2': ['2'],\n",
       " 'lower': ['lower', 'lowers', 'lowering', 'lowered'],\n",
       " 'ball': ['ball', 'balls', 'balled'],\n",
       " 'joint': ['joints', 'joint'],\n",
       " '3': ['3'],\n",
       " 'code': ['codes', 'code', 'coding'],\n",
       " 'c1095': ['c1095'],\n",
       " 'c1096': ['c1096'],\n",
       " 'ecu': ['ecu'],\n",
       " 'hcu': ['hcu'],\n",
       " 'control': ['controller',\n",
       "  'control',\n",
       "  'controls',\n",
       "  'controlled',\n",
       "  'controlling',\n",
       "  'controllable',\n",
       "  'controled',\n",
       "  'controllably'],\n",
       " 'modul': ['module', 'modulator', 'modulated', 'modules'],\n",
       " 'assembl': ['assembly', 'assembled', 'assemblies'],\n",
       " 'actuat': ['actuator', 'actuated'],\n",
       " 'steer': ['steering', 'steer', 'steerings', 'steered', 'steers'],\n",
       " '30k': ['30k'],\n",
       " 'item': ['items', 'item'],\n",
       " 'bumber': ['bumber'],\n",
       " 'kit': ['kit', 'kits'],\n",
       " 'disput': ['dispute'],\n",
       " 'today': ['today', 'todays'],\n",
       " 'pay': ['pay', 'paying', 'pays', 'payed'],\n",
       " 'shock': ['shocked', 'shocks', 'shock', 'shocking'],\n",
       " 'damag': ['damage', 'damaged', 'damaging', 'damages'],\n",
       " 'proclaim': ['proclaimed'],\n",
       " 'built': ['built'],\n",
       " 'tough': ['tough'],\n",
       " '36k': ['36k'],\n",
       " 'guess': ['guess', 'guesses', 'guessed', 'guessing'],\n",
       " 'bill': ['bill', 'bills', 'billed'],\n",
       " 'cab': ['cab', 'cabs'],\n",
       " 'extrem': ['extremely', 'extreme', 'extremes'],\n",
       " 'cramp': ['cramped', 'cramps', 'cramp', 'cramping'],\n",
       " 'friend': ['friends', 'friend'],\n",
       " 'refus': ['refuse', 'refused', 'refuses', 'refusing'],\n",
       " 'rear': ['rear', 'rears'],\n",
       " 'bench': ['bench', 'benches'],\n",
       " 'gener': ['general',\n",
       "  'generations',\n",
       "  'generation',\n",
       "  'generally',\n",
       "  'generous',\n",
       "  'generic',\n",
       "  'generals',\n",
       "  'generate',\n",
       "  'generously',\n",
       "  'generates',\n",
       "  'generating'],\n",
       " 'roomi': ['roomy', 'roominess'],\n",
       " 'ignit': ['ignition', 'ignited'],\n",
       " 'hidden': ['hidden'],\n",
       " 'stereo': ['stereo', 'stereos'],\n",
       " 'class': ['class', 'classes'],\n",
       " 'sound': ['sound', 'sounds', 'sounding', 'sounded'],\n",
       " 'tune': ['tuning', 'tune', 'tuned', 'tunes'],\n",
       " 'station': ['stations', 'station', 'stationed'],\n",
       " 'grip': ['grip', 'gripping', 'grips'],\n",
       " 'traction': ['traction'],\n",
       " '10': ['10'],\n",
       " 'get': ['getting', 'gets'],\n",
       " 'spray': ['spray', 'sprayed', 'spraying'],\n",
       " 'liner': ['liner', 'liners'],\n",
       " 'prevent': ['prevent',\n",
       "  'preventing',\n",
       "  'preventative',\n",
       "  'prevention',\n",
       "  'prevents',\n",
       "  'prevented',\n",
       "  'preventive'],\n",
       " 'scratch': ['scratches', 'scratched', 'scratch', 'scratching'],\n",
       " 'metal': ['metal', 'metallic'],\n",
       " 'cant': ['cant'],\n",
       " 'hold': ['hold', 'holds', 'holding'],\n",
       " 'appear': ['appears',\n",
       "  'appeared',\n",
       "  'appearance',\n",
       "  'appear',\n",
       "  'appearing',\n",
       "  'appearances',\n",
       "  'appearence'],\n",
       " 'thin': ['thin'],\n",
       " 'bed': ['bed', 'beds'],\n",
       " 'exterior': ['exterior'],\n",
       " 'height': ['height', 'heights'],\n",
       " 'fantast': ['fantastic'],\n",
       " 'certainli': ['certainly'],\n",
       " 'upset': ['upsets', 'upset'],\n",
       " 'tailgat': ['tailgating', 'tailgate', 'tailgates', 'tailgaters'],\n",
       " 'assum': ['assuming', 'assume', 'assumed'],\n",
       " 'im': ['im'],\n",
       " 'slow': ['slow', 'slowed', 'slows', 'slowing'],\n",
       " 'hog': ['hog', 'hogs', 'hogging'],\n",
       " 'left': ['left'],\n",
       " 'lane': ['lane', 'lanes'],\n",
       " 'pass': ['pass', 'passing', 'passed', 'passes', 'passe'],\n",
       " 'jam': ['jammed', 'jam', 'jamming', 'jams'],\n",
       " 'acceler': ['accelerations',\n",
       "  'acceleration',\n",
       "  'accelerating',\n",
       "  'accelerate',\n",
       "  'accelerates',\n",
       "  'accelerator',\n",
       "  'accelerated'],\n",
       " 'torqu': ['torque', 'torqued'],\n",
       " 'sens': ['sense', 'sensing', 'senses'],\n",
       " 'hesit': ['hesitation',\n",
       "  'hesitate',\n",
       "  'hesitates',\n",
       "  'hesitant',\n",
       "  'hesitations',\n",
       "  'hesitating',\n",
       "  'hesitated',\n",
       "  'hesitent'],\n",
       " 'occas': ['occasions', 'occasion'],\n",
       " 'suddenli': ['suddenly'],\n",
       " 'petal': ['petal'],\n",
       " 'medal': ['medal'],\n",
       " 'avoid': ['avoid', 'avoided', 'avoiding', 'avoids', 'avoidance'],\n",
       " 'accid': ['accidents', 'accident', 'accidently'],\n",
       " 'valu': ['value', 'values', 'valued'],\n",
       " 'cost': ['costs', 'costing', 'cost', 'costed'],\n",
       " 'money': ['money', 'moneys'],\n",
       " 'expens': ['expensive', 'expenses', 'expense', 'expensively'],\n",
       " 'complain': ['complaining',\n",
       "  'complain',\n",
       "  'complained',\n",
       "  'complains',\n",
       "  'complainer'],\n",
       " 'mother': ['mother', 'mothers'],\n",
       " 'carseat': ['carseats', 'carseat'],\n",
       " 'logic': ['logical', 'logic', 'logically'],\n",
       " 'trade': ['trade', 'traded', 'trading', 'trades'],\n",
       " '200sx': ['200sx'],\n",
       " 'minivan': ['minivan', 'minivans'],\n",
       " 'hand': ['handful', 'hands', 'handing', 'handed', 'hand'],\n",
       " 'famili': ['family', 'families', 'familys'],\n",
       " 'requir': ['requires',\n",
       "  'require',\n",
       "  'required',\n",
       "  'requiring',\n",
       "  'requirements',\n",
       "  'requirement'],\n",
       " 'difficulti': ['difficulties', 'difficulty'],\n",
       " 'minimum': ['minimum'],\n",
       " 'fact': ['fact', 'facts'],\n",
       " 'van': ['van', 'vans'],\n",
       " 'peopl': ['people', 'peoples'],\n",
       " 'worri': ['worry', 'worried', 'worrying', 'worries'],\n",
       " 'bring': ['bringing', 'bring', 'brings'],\n",
       " 'kid': ['kids', 'kid', 'kidding'],\n",
       " 'ad': ['added', 'ads', 'adding', 'ad'],\n",
       " 'windstar': ['windstar', 'windstars'],\n",
       " 'handl': ['handles', 'handling', 'handle', 'handled'],\n",
       " 'great': ['great', 'greatness', 'greatful'],\n",
       " 'abl': ['able'],\n",
       " 'infront': ['infront'],\n",
       " 'featur': ['features', 'feature', 'featurs', 'featured', 'featuring'],\n",
       " 'indic': ['indicative',\n",
       "  'indicators',\n",
       "  'indication',\n",
       "  'indicator',\n",
       "  'indicated',\n",
       "  'indicates',\n",
       "  'indicating',\n",
       "  'indicate'],\n",
       " 'hate': ['hate', 'hates', 'hated'],\n",
       " 'broken': ['broken'],\n",
       " 'leav': ['leaving', 'leaves', 'leave'],\n",
       " 'children': ['children', 'childrens'],\n",
       " 'strand': ['stranded', 'strand', 'stranding'],\n",
       " 'diagnosi': ['diagnosis'],\n",
       " 'differ': ['different',\n",
       "  'difference',\n",
       "  'differences',\n",
       "  'differing',\n",
       "  'differed',\n",
       "  'differ',\n",
       "  'differently',\n",
       "  'differance',\n",
       "  'differant'],\n",
       " 'engin': ['engine',\n",
       "  'engineering',\n",
       "  'engineered',\n",
       "  'engineers',\n",
       "  'engines',\n",
       "  'engineer',\n",
       "  'engined'],\n",
       " 'imposs': ['impossible', 'impossibility'],\n",
       " 'safe': ['safe', 'safely'],\n",
       " 'thank': ['thankfully', 'thanks', 'thank', 'thankful', 'thanking'],\n",
       " 'easi': ['easy', 'easiness'],\n",
       " 'suspens': ['suspension', 'suspensions', 'suspense'],\n",
       " 'desir': ['desired', 'desirable', 'desire', 'desires', 'desireable'],\n",
       " 'privledg': ['privledge'],\n",
       " 'bump': ['bump', 'bumps', 'bumped', 'bumping'],\n",
       " 'brake': ['brakes', 'braking', 'brake', 'braked'],\n",
       " 'squeak': ['squeak', 'squeaks', 'squeaking', 'squeaked'],\n",
       " 'severli': ['severly'],\n",
       " 'alot': ['alot'],\n",
       " 'transport': ['transport', 'transportation', 'transporting', 'transported'],\n",
       " 'enjoy': ['enjoys', 'enjoying', 'enjoyed', 'enjoy', 'enjoyable', 'enjoyment'],\n",
       " 'sport': ['sports', 'sport', 'sporting', 'sported'],\n",
       " 'fast': ['fast'],\n",
       " 'winstar': ['winstar', 'winstars'],\n",
       " 'driven': ['driven'],\n",
       " 'horribl': ['horrible', 'horribly'],\n",
       " 'sway': ['swaying', 'sway', 'sways', 'swayed'],\n",
       " 'actual': ['actually', 'actual', 'actuality', 'actuall'],\n",
       " 'go': ['going', 'gos'],\n",
       " 'tip': ['tip', 'tipping', 'tips'],\n",
       " 'window': ['window', 'windows'],\n",
       " 'creat': ['creates', 'create', 'creating', 'created'],\n",
       " 'blind': ['blind', 'blinded'],\n",
       " 'spot': ['spot', 'spots', 'spotted', 'spotting'],\n",
       " 'danger': ['dangerous', 'dangers', 'danger', 'dangerously'],\n",
       " 'meet': ['meets', 'meet', 'meeting'],\n",
       " 'windshield': ['windshield', 'windshields'],\n",
       " 'doesnt': ['doesnt'],\n",
       " 'have': ['having', 'haves'],\n",
       " 'stop': ['stopping', 'stop', 'stopped', 'stops'],\n",
       " 'quick': ['quick', 'quickness'],\n",
       " 'effici': ['efficiently', 'efficient', 'efficiency'],\n",
       " 'provid': ['provide', 'provided', 'providing', 'provides', 'provider'],\n",
       " 'frame': ['frame', 'frames', 'framed'],\n",
       " 'vision': ['vision'],\n",
       " 'safeti': ['safety'],\n",
       " 'hazard': ['hazard', 'hazards', 'hazardous'],\n",
       " 'birth': ['birth'],\n",
       " 'initi': ['initially', 'initial', 'initiated', 'initiatives'],\n",
       " 'dream': ['dreamed', 'dreams', 'dream', 'dreaming'],\n",
       " 'plenti': ['plenty', 'plentiful'],\n",
       " '7': ['7'],\n",
       " 'rode': ['rode'],\n",
       " 'heard': ['heard'],\n",
       " 'rate': ['ratings', 'rate', 'rates', 'rating', 'rated'],\n",
       " 'eas': ['ease', 'eases', 'eased'],\n",
       " 'gl': ['gl', 'gls'],\n",
       " 'heat': ['heat', 'heating', 'heated', 'heats'],\n",
       " 'bucket': ['bucket', 'buckets'],\n",
       " 'wonder': ['wonderful',\n",
       "  'wondering',\n",
       "  'wonder',\n",
       "  'wonderfully',\n",
       "  'wondered',\n",
       "  'wonders'],\n",
       " 'roll': ['roll', 'rolling', 'rolled', 'rolls'],\n",
       " 'downhil': ['downhill'],\n",
       " 'tranni': ['tranny', 'trannies', 'trannys'],\n",
       " 'later': ['later', 'lateral'],\n",
       " 'interior': ['interior', 'interiors'],\n",
       " 'slide': ['sliding', 'slides', 'slide'],\n",
       " 'fell': ['fell'],\n",
       " 'constant': ['constant'],\n",
       " 'switch': ['switch', 'switched', 'switches', 'switching'],\n",
       " 'ding': ['dinging', 'ding', 'dinged', 'dings'],\n",
       " 'key': ['keys', 'key', 'keying', 'keyed'],\n",
       " 'stay': ['stayed', 'stay', 'stays', 'staying'],\n",
       " 'ajar': ['ajar'],\n",
       " 'matter': ['matter', 'matters', 'mattered'],\n",
       " 'ensur': ['ensure', 'ensured', 'ensures'],\n",
       " 'lie': ['lie', 'lying', 'lied', 'lies'],\n",
       " 'start': ['started', 'starting', 'start', 'starts'],\n",
       " 'werent': ['werent'],\n",
       " '18': ['18', '18s'],\n",
       " 'mpg': ['mpg'],\n",
       " 'liter': ['literally', 'liter', 'literate', 'liters'],\n",
       " 'run': ['run', 'running', 'runs', 'runned'],\n",
       " 'cold': ['cold'],\n",
       " 'id': ['id'],\n",
       " 'defin': ['definately', 'defines', 'defined', 'define'],\n",
       " 'wasnt': ['wasnt'],\n",
       " 'worth': ['worth'],\n",
       " 'paid': ['paid'],\n",
       " 'headach': ['headache', 'headaches'],\n",
       " 'focu': ['focus'],\n",
       " 'wagon': ['wagon', 'wagons', 'wagoneers'],\n",
       " 'cargo': ['cargo'],\n",
       " 'space': ['space', 'spaces', 'spaced'],\n",
       " 'camp': ['camping', 'camp', 'camps'],\n",
       " 'hardwar': ['hardware'],\n",
       " 'store': ['store', 'stores', 'stored', 'storing'],\n",
       " 'smooth': ['smooth', 'smoothness', 'smoothing'],\n",
       " 'quiet': ['quiet', 'quietness', 'quiets', 'quieted'],\n",
       " 'solid': ['solid', 'solidity'],\n",
       " 'lancer': ['lancer'],\n",
       " 'wish': ['wish', 'wishing', 'wished', 'wishes'],\n",
       " 'littl': ['little'],\n",
       " 'adjust': ['adjustable',\n",
       "  'adjusted',\n",
       "  'adjustments',\n",
       "  'adjusting',\n",
       "  'adjustment',\n",
       "  'adjust',\n",
       "  'adjusters',\n",
       "  'adjusts',\n",
       "  'adjuster',\n",
       "  'adjustably',\n",
       "  'adjustability'],\n",
       " 'big': ['big'],\n",
       " 'pocket': ['pockets', 'pocket', 'pocketing'],\n",
       " 'warmer': ['warmers', 'warmer'],\n",
       " 'wiper': ['wiper', 'wipers'],\n",
       " 'best': ['best', 'bests'],\n",
       " 'market': ['market', 'marketed', 'markets', 'marketing', 'marketers'],\n",
       " 'biggest': ['biggest'],\n",
       " 'terribl': ['terribly', 'terrible'],\n",
       " 'carpet': ['carpet', 'carpeting', 'carpeted', 'carpets'],\n",
       " 'twice': ['twice'],\n",
       " 'bleach': ['bleach'],\n",
       " 'solut': ['solution', 'solutions'],\n",
       " 'kill': ['kill', 'killed', 'kills', 'killing'],\n",
       " 'mold': ['mold', 'moldings', 'molding', 'molded'],\n",
       " 'mildew': ['mildew'],\n",
       " 'set': ['set', 'sets', 'settings', 'setting'],\n",
       " 'issu': ['issue', 'issues', 'issued'],\n",
       " 'vent': ['vent', 'vents', 'venting', 'vented'],\n",
       " 'summertim': ['summertime'],\n",
       " 'bummer': ['bummer'],\n",
       " 'cool': ['cool', 'cooling', 'cools', 'cooled'],\n",
       " 'spring': ['spring', 'springs'],\n",
       " 'fall': ['fall', 'falling', 'falls'],\n",
       " 'come': ['come', 'coming', 'comes', 'comings'],\n",
       " 'sun': ['sun'],\n",
       " 'visor': ['visors', 'visor'],\n",
       " 'useless': ['useless'],\n",
       " 'forward': ['forward', 'forwards', 'forwarding'],\n",
       " 'sag': ['sag'],\n",
       " 'low': ['low', 'lows', 'lowes', 'lowe'],\n",
       " 'block': ['block', 'blocks', 'blocking', 'blocked'],\n",
       " 'escort': ['escort', 'escorting', 'escorts'],\n",
       " 'luxuri': ['luxury', 'luxurious', 'luxuries', 'luxurys'],\n",
       " 'chanc': ['chance', 'chances'],\n",
       " 'll': ['ll'],\n",
       " 've': ['ve'],\n",
       " 'probabl': ['probably', 'probablys', 'probable'],\n",
       " 'giant': ['giant', 'giants'],\n",
       " 'excurs': ['excursion', 'excursions'],\n",
       " 'util': ['utility', 'utile', 'utilities', 'utilized', 'utilize'],\n",
       " 'carri': ['carries', 'carry', 'carrying', 'carried', 'carrys'],\n",
       " 'price': ['price', 'prices', 'pricing', 'priced', 'priceing'],\n",
       " 'tag': ['tag', 'tags', 'tagging'],\n",
       " 'relat': ['relates',\n",
       "  'related',\n",
       "  'relations',\n",
       "  'relation',\n",
       "  'relating',\n",
       "  'relate'],\n",
       " 'size': ['size', 'sizes', 'sized', 'sizing'],\n",
       " 'accord': ['according', 'accord', 'accordance', 'accords'],\n",
       " 'expert': ['experts', 'expert'],\n",
       " 'pull': ['pull', 'pulled', 'pulling', 'pulls'],\n",
       " 'asphalt': ['asphalt'],\n",
       " 'wet': ['wet', 'wetting'],\n",
       " 'pant': ['pants', 'pant'],\n",
       " 'fear': ['fear', 'feared', 'fears', 'fearful'],\n",
       " 'hide': ['hide', 'hiding'],\n",
       " 'gutter': ['gutter'],\n",
       " 'contact': ['contact', 'contacts', 'contacted', 'contacting'],\n",
       " 'machin': ['machine', 'machines', 'machined'],\n",
       " 'feast': ['feasts'],\n",
       " 'coup': ['coupes', 'coupe', 'coup'],\n",
       " 'snack': ['snacks', 'snack'],\n",
       " 'sedan': ['sedans', 'sedan'],\n",
       " 'entre': ['entrees'],\n",
       " 'isnt': ['isnt'],\n",
       " 'meant': ['meant'],\n",
       " 'haul': ['haul', 'hauling', 'hauls', 'hauled'],\n",
       " 'smaller': ['smaller'],\n",
       " 'strong': ['strong'],\n",
       " 'huge': ['huge', 'hugely'],\n",
       " 'draw': ['drawing', 'draw', 'draws'],\n",
       " 'critic': ['criticism',\n",
       "  'critics',\n",
       "  'critical',\n",
       "  'criticize',\n",
       "  'criticized',\n",
       "  'criticizes',\n",
       "  'criticisms'],\n",
       " '310': ['310'],\n",
       " 'horsepow': ['horsepower'],\n",
       " 'v': ['v'],\n",
       " 'maneuv': ['maneuver', 'maneuvers', 'maneuvering', 'maneuvered'],\n",
       " '19': ['19'],\n",
       " 'foot': ['foot', 'footed', 'footing'],\n",
       " 'wind': ['winding', 'wind', 'winds'],\n",
       " 'minim': ['minimal', 'minimize', 'minimizing'],\n",
       " 'strain': ['strain', 'straining', 'strained', 'strains'],\n",
       " 'base': ['base', 'based', 'basing', 'bases'],\n",
       " '255': ['255'],\n",
       " 'h': ['h'],\n",
       " 'p': ['p'],\n",
       " 'fare': ['fared', 'fares', 'fare'],\n",
       " 'estim': ['estimates', 'estimated', 'estimate'],\n",
       " 'deliv': ['deliver', 'delivered', 'delivers', 'delivering'],\n",
       " '11': ['11'],\n",
       " 'citi': ['city', 'cities'],\n",
       " 'highway': ['highway', 'highways'],\n",
       " '6': ['6'],\n",
       " '8': ['8'],\n",
       " '16': ['16', '16s'],\n",
       " 'turbo': ['turbo', 'turbos'],\n",
       " 'diesel': ['diesel', 'diesels'],\n",
       " 'boat': ['boat', 'boats'],\n",
       " 'attach': ['attached', 'attachment', 'attach'],\n",
       " 'perform': ['performed',\n",
       "  'performance',\n",
       "  'perform',\n",
       "  'performs',\n",
       "  'performing',\n",
       "  'performer',\n",
       "  'performers',\n",
       "  'performances'],\n",
       " 'admir': ['admirably', 'admire', 'admiring', 'admirable', 'admired'],\n",
       " 'exist': ['exists',\n",
       "  'existing',\n",
       "  'existence',\n",
       "  'existent',\n",
       "  'exist',\n",
       "  'existant',\n",
       "  'existed'],\n",
       " 'heavi': ['heavy', 'heavies'],\n",
       " 'unhook': ['unhooked'],\n",
       " 'manag': ['managed',\n",
       "  'managers',\n",
       "  'manage',\n",
       "  'manager',\n",
       "  'managing',\n",
       "  'manageable',\n",
       "  'management',\n",
       "  'manages',\n",
       "  'managable'],\n",
       " 'twisti': ['twisty', 'twisties', 'twistys'],\n",
       " 'hilli': ['hilly'],\n",
       " 'tendenc': ['tendency'],\n",
       " 'firm': ['firm', 'firmness'],\n",
       " 'bone': ['bone', 'bones', 'boned'],\n",
       " 'jar': ['jarring', 'jar', 'jarred'],\n",
       " 'movement': ['movement'],\n",
       " 'uneven': ['uneven'],\n",
       " 'pavement': ['pavement'],\n",
       " 'surprisingli': ['surprisingly'],\n",
       " 'pleasant': ['pleasant'],\n",
       " 'effort': ['effort', 'efforts'],\n",
       " 'loos': ['loose', 'looses', 'loosing', 'loosness', 'loosely'],\n",
       " 'tight': ['tight', 'tightness'],\n",
       " 'corner': ['corner', 'corners', 'cornering', 'cornered'],\n",
       " 'explor': ['explorer', 'explore', 'explorers', 'exploring', 'explored'],\n",
       " 'radiu': ['radius'],\n",
       " 'let': ['lets', 'let', 'letting'],\n",
       " 'u': ['u'],\n",
       " 'wheel': ['wheel', 'wheels', 'wheeling', 'wheeled'],\n",
       " 'anti': ['anti'],\n",
       " 'disk': ['disk', 'disks'],\n",
       " 'appli': ['apply', 'applies', 'applied', 'applying'],\n",
       " 'pedal': ['pedal', 'pedals'],\n",
       " 'earlier': ['earlier'],\n",
       " 'account': ['account', 'accountants', 'accounted', 'accounts'],\n",
       " 'owner': ['owners', 'owner'],\n",
       " 'tini': ['tiny'],\n",
       " 'frighten': ['frightened', 'frightening', 'frighten', 'frightens'],\n",
       " 'test': ['test', 'tested', 'testing', 'tests'],\n",
       " 'grab': ['grabbed', 'grab', 'grabbing', 'grabs'],\n",
       " 'slung': ['slung'],\n",
       " 'path': ['path'],\n",
       " 'trailer': ['trailer', 'trailers'],\n",
       " 'hitch': ['hitch', 'hitched'],\n",
       " 'associ': ['associated', 'associates', 'associate'],\n",
       " 'sit': ['sit', 'sits', 'sitting'],\n",
       " 'submarin': ['submarining', 'submarines'],\n",
       " 'impact': ['impact', 'impacts'],\n",
       " 'garag': ['garageable', 'garage', 'garaged', 'garages'],\n",
       " '20': ['20', '20s'],\n",
       " 'feet': ['feet'],\n",
       " 'high': ['high', 'highs'],\n",
       " 'insid': ['inside', 'insides', 'insiders'],\n",
       " 'row': ['rows', 'row'],\n",
       " 'massiv': ['massive'],\n",
       " 'center': ['center', 'centers', 'centered', 'centering'],\n",
       " 'section': ['section', 'sections', 'sectional'],\n",
       " 'write': ['writing', 'write'],\n",
       " 'cup': ['cup', 'cups', 'cupping', 'cupped'],\n",
       " 'holder': ['holders', 'holder'],\n",
       " 'tape': ['tape', 'tapes'],\n",
       " 'cd': ['cd', 'cds'],\n",
       " 'coin': ['coin', 'coins', 'coining'],\n",
       " 'plu': ['plus'],\n",
       " 'changer': ['changer'],\n",
       " 'entri': ['entry', 'entries'],\n",
       " 'press': ['press', 'pressed', 'pressing', 'presses'],\n",
       " 'wide': ['wide', 'widely'],\n",
       " 'open': ['open',\n",
       "  'opener',\n",
       "  'opening',\n",
       "  'opened',\n",
       "  'opens',\n",
       "  'openings',\n",
       "  'openers'],\n",
       " 'exit': ['exit', 'exits', 'exiting', 'exited'],\n",
       " 'directli': ['directly'],\n",
       " 'axl': ['axle', 'axles'],\n",
       " 'put': ['putting', 'puts'],\n",
       " 'touch': ['touch', 'touched', 'touches', 'touching'],\n",
       " 'harsh': ['harshness', 'harsh'],\n",
       " 'spare': ['spare', 'spared', 'spares'],\n",
       " 'wall': ['wall', 'walls', 'walling'],\n",
       " 'decent': ['decent', 'decently'],\n",
       " 'fold': ['folding', 'folded', 'fold', 'folds'],\n",
       " 'capac': ['capacity'],\n",
       " 'roller': ['rollers', 'roller'],\n",
       " 'remov': ['removed',\n",
       "  'removing',\n",
       "  'removeable',\n",
       "  'removable',\n",
       "  'remove',\n",
       "  'removal',\n",
       "  'removes'],\n",
       " 'contain': ['contains',\n",
       "  'contained',\n",
       "  'contain',\n",
       "  'container',\n",
       "  'containing',\n",
       "  'containers'],\n",
       " 'ton': ['tons', 'ton'],\n",
       " 'luggag': ['luggage'],\n",
       " 'golf': ['golf', 'golfs'],\n",
       " 'club': ['clubs', 'club'],\n",
       " 'goodi': ['goodies'],\n",
       " 'coat': ['coat', 'coated', 'coats'],\n",
       " 'read': ['reading', 'read', 'reads', 'readings'],\n",
       " 'lamp': ['lamps', 'lampe', 'lamp'],\n",
       " 'cabin': ['cabin'],\n",
       " 'audio': ['audio', 'audios'],\n",
       " 'dual': ['dual'],\n",
       " 'headphon': ['headphone', 'headphones'],\n",
       " 'jack': ['jacks', 'jack', 'jacked', 'jacking'],\n",
       " 'overhead': ['overhead'],\n",
       " 'consol': ['console', 'consol', 'consoles'],\n",
       " 'eyeglass': ['eyeglass', 'eyeglasses'],\n",
       " 'despit': ['despite'],\n",
       " 'excel': ['excellent',\n",
       "  'excel',\n",
       "  'excels',\n",
       "  'excellence',\n",
       "  'excellant',\n",
       "  'excelent'],\n",
       " 'glass': ['glass', 'glasses'],\n",
       " 'hatch': ['hatch'],\n",
       " 'visibl': ['visibility', 'visible', 'visibly'],\n",
       " 'there': ['theres'],\n",
       " 'glare': ['glaring', 'glare', 'glares'],\n",
       " 'stand': ['stands', 'stand', 'standing'],\n",
       " 'tall': ['tall'],\n",
       " 'lost': ['lost'],\n",
       " 'sight': ['sight', 'sights', 'sighted'],\n",
       " 'bmw': ['bmw', 'bmws'],\n",
       " 'z': ['z'],\n",
       " 'mean': ['means', 'mean', 'meaning'],\n",
       " 'object': ['objects', 'object', 'objectively', 'objective', 'objection'],\n",
       " 'pet': ['pets', 'pet'],\n",
       " 'wont': ['wont'],\n",
       " 'seen': ['seen', 'seens'],\n",
       " 'driveway': ['driveway', 'driveways'],\n",
       " 'sonar': ['sonar'],\n",
       " 'revers': ['reverse',\n",
       "  'reversing',\n",
       "  'reversed',\n",
       "  'reversal',\n",
       "  'reversals',\n",
       "  'reverses'],\n",
       " 'system': ['system', 'systems'],\n",
       " 'mini': ['mini'],\n",
       " 'beep': ['beeps', 'beep', 'beeping', 'beeped'],\n",
       " 'warn': ['warn', 'warning', 'warned', 'warns', 'warnings'],\n",
       " 'back': ['backing', 'backed', 'backs'],\n",
       " 'hope': ['hopefully', 'hope', 'hoping', 'hopes', 'hoped'],\n",
       " 'soon': ['soon'],\n",
       " 'want': ['want', 'wanted', 'wanting', 'wants'],\n",
       " 'wait': ['wait', 'waiting', 'waited', 'waits'],\n",
       " 'bag': ['bags', 'bag'],\n",
       " 'minder': ['minder'],\n",
       " 'chime': ['chime', 'chimes', 'chiming'],\n",
       " '30': ['30', '30s'],\n",
       " 'remind': ['reminder', 'remind', 'reminded', 'reminds', 'reminding'],\n",
       " 'buckl': ['buckle', 'buckled', 'buckling'],\n",
       " '33': ['33'],\n",
       " '460': ['460'],\n",
       " '2wd': ['2wd'],\n",
       " '36': ['36'],\n",
       " '775': ['775'],\n",
       " '4wd': ['4wd'],\n",
       " 'gmc': ['gmc', 'gmcs'],\n",
       " 'chevrolet': ['chevrolet', 'chevrolets'],\n",
       " 'suburban': ['suburban', 'suburbans'],\n",
       " 'dwarf': ['dwarfs', 'dwarf'],\n",
       " 'suv': ['suvs', 'suv'],\n",
       " 'race': ['race', 'racing', 'raced', 'races'],\n",
       " 'baddest': ['baddest'],\n",
       " 'cake': ['cake', 'caked'],\n",
       " 'outsid': ['outside', 'outsides'],\n",
       " 'resembl': ['resembles',\n",
       "  'resembling',\n",
       "  'resembled',\n",
       "  'resemble',\n",
       "  'resemblance'],\n",
       " 'f350': ['f350', 'f350s'],\n",
       " 'grill': ['grill', 'grille', 'grilled', 'grills'],\n",
       " 'chrome': ['chrome', 'chromed'],\n",
       " 'glitzi': ['glitzy'],\n",
       " 'step': ['step', 'steps', 'stepping', 'stepped'],\n",
       " 'individu': ['individual', 'individuality', 'individuals', 'individually'],\n",
       " 'gigant': ['gigantic'],\n",
       " 'swing': ['swing', 'swinging', 'swings'],\n",
       " 'lucki': ['lucky'],\n",
       " 'abund': ['abundance', 'abundant'],\n",
       " 'dodg': ['dodge', 'dodged', 'dodges'],\n",
       " 'caravan': ['caravan', 'caravans'],\n",
       " 'limit': ['limited',\n",
       "  'limits',\n",
       "  'limit',\n",
       "  'limiteds',\n",
       "  'limiting',\n",
       "  'limiter',\n",
       "  'limitations'],\n",
       " 'leather': ['leather'],\n",
       " 'wood': ['wood', 'wooded', 'woods'],\n",
       " 'outfit': ['outfitted', 'outfits', 'outfit'],\n",
       " 'seven': ['seven'],\n",
       " 'effect': ['effectively', 'effect', 'effective', 'effected', 'effects'],\n",
       " 'accler': ['accleration'],\n",
       " 'disguis': ['disguised'],\n",
       " 'snow': ['snow', 'snows', 'snowing', 'snowed'],\n",
       " 'wallet': ['wallet'],\n",
       " 'eddi': ['eddie', 'eddied'],\n",
       " 'bauer': ['bauer', 'bauers'],\n",
       " 'trim': ['trim', 'trims', 'trimmed'],\n",
       " 'pretti': ['pretty'],\n",
       " 'lifetim': ['lifetime'],\n",
       " 'cound': ['cound'],\n",
       " 'mix': ['mix', 'mixed', 'mixing'],\n",
       " 'rid': ['ridding', 'rid'],\n",
       " 'sheer': ['sheer', 'sheered'],\n",
       " 'magnitud': ['magnitude'],\n",
       " 'confid': ['confidence', 'confident', 'confidently'],\n",
       " 'inspir': ['inspiring', 'inspires', 'inspired', 'inspire', 'inspiration'],\n",
       " 'ws': ['ws'],\n",
       " 'stoppng': ['stoppng'],\n",
       " 'disanc': ['disances'],\n",
       " 'super': ['super'],\n",
       " 'dart': ['dart', 'darting'],\n",
       " 'swerv': ['swerve', 'swerved', 'swerving', 'swerves'],\n",
       " 'aviod': ['aviod'],\n",
       " 'fatal': ['fatal'],\n",
       " 'collion': ['collion'],\n",
       " 'victim': ['victim', 'victims'],\n",
       " 'consid': ['considering', 'consider', 'considered'],\n",
       " 'kind': ['kind', 'kinds', 'kindness'],\n",
       " 'dress': ['dressed', 'dressing', 'dress', 'dresses'],\n",
       " 'deserv': ['deserve', 'deserved', 'deserves'],\n",
       " 'exclusivis': ['exclusivisity'],\n",
       " 'rough': ['rough', 'roughed'],\n",
       " 'rug': ['rugged', 'rug'],\n",
       " 'taill': ['taillings'],\n",
       " 'similar': ['similar', 'similarities', 'similarity'],\n",
       " 'econolin': ['econoline'],\n",
       " 'that': ['thats'],\n",
       " 'okay': ['okay'],\n",
       " 'suppos': ['suppose', 'supposed'],\n",
       " 'live': ['lives', 'live', 'lived', 'living', 'lively'],\n",
       " 'rural': ['rural'],\n",
       " 'involv': ['involved', 'involves', 'involving', 'involvement', 'involve'],\n",
       " 'ship': ['shipping', 'shipped', 'ship'],\n",
       " 'equip': ['equipment', 'equipped', 'equip', 'equips', 'equiped'],\n",
       " 'use': ['use', 'uses', 'useful', 'useing', 'usefulness', 'usefully'],\n",
       " 'statu': ['status'],\n",
       " 'symbol': ['symbol', 'symbolic', 'symbols'],\n",
       " 'shallow': ['shallow'],\n",
       " 'basic': ['basically', 'basic', 'basics'],\n",
       " 'stupid': ['stupid', 'stupider', 'stupidities', 'stupidity'],\n",
       " 'sayign': ['sayign'],\n",
       " '60': ['60', '60s'],\n",
       " 'fill': ['fill', 'filled', 'fills', 'filling'],\n",
       " 'er': ['er'],\n",
       " 'mall': ['mall', 'malls'],\n",
       " 'burn': ['burning', 'burn', 'burns', 'burned'],\n",
       " 'gasolin': ['gasoline'],\n",
       " 'galor': ['galore'],\n",
       " 'gridlock': ['gridlock'],\n",
       " 'imagin': ['imagine', 'imagination', 'imagining', 'imaginable'],\n",
       " 'nightmar': ['nightmare'],\n",
       " 'urban': ['urban'],\n",
       " 'parallel': ['parallel'],\n",
       " 'guy': ['guys', 'guy'],\n",
       " 'airport': ['airport'],\n",
       " 'guid': ['guide', 'guided', 'guiding'],\n",
       " 'plane': ['planes', 'plane'],\n",
       " 'torch': ['torches'],\n",
       " 'fals': ['false', 'falsely'],\n",
       " 'secur': ['security',\n",
       "  'secured',\n",
       "  'securing',\n",
       "  'secure',\n",
       "  'securely',\n",
       "  'securities',\n",
       "  'secures'],\n",
       " 'superior': ['superiority', 'superior'],\n",
       " 'event': ['event', 'events'],\n",
       " 'collis': ['collision', 'collisions'],\n",
       " 'crash': ['crash', 'crashes', 'crashing', 'crashed'],\n",
       " 'die': ['die', 'dies', 'dying', 'died'],\n",
       " 'haha': ['haha'],\n",
       " 'true': ['true'],\n",
       " 'asid': ['aside'],\n",
       " 'legal': ['legal', 'legally'],\n",
       " 'consequ': ['consequences', 'consequently'],\n",
       " 'depend': ['depending',\n",
       "  'dependable',\n",
       "  'dependability',\n",
       "  'dependant',\n",
       "  'depended',\n",
       "  'depends',\n",
       "  'depend',\n",
       "  'dependent',\n",
       "  'dependible'],\n",
       " 'fault': ['fault', 'faults'],\n",
       " 'crippl': ['cripple'],\n",
       " 'injur': ['injured', 'injure'],\n",
       " 'possibl': ['possibly', 'possible', 'possibility', 'possibilities'],\n",
       " 'tend': ['tend', 'tends', 'tended'],\n",
       " 'type': ['type', 'types', 'typing'],\n",
       " 'chat': ['chat', 'chatting'],\n",
       " 'away': ['away'],\n",
       " 'cell': ['cell'],\n",
       " 'phone': ['phones', 'phone', 'phoned'],\n",
       " 'habit': ['habit', 'habits'],\n",
       " 'combin': ['combined',\n",
       "  'combination',\n",
       "  'combine',\n",
       "  'combinations',\n",
       "  'combines',\n",
       "  'combining'],\n",
       " 'desruct': ['desructive'],\n",
       " 'potenti': ['potential', 'potentially'],\n",
       " 'lead': ['lead', 'leads', 'leading', 'leaded'],\n",
       " 'tragedi': ['tragedies'],\n",
       " 'd': ['d'],\n",
       " 'teh': ['teh'],\n",
       " 'buyer': ['buyer', 'buyers'],\n",
       " 'solv': ['solved', 'solve', 'solves'],\n",
       " 'gallon': ['gallon', 'gallons'],\n",
       " 'line': ['line', 'lines', 'lining', 'lined'],\n",
       " 'play': ['play', 'played', 'playing', 'plays', 'playful', 'playfully'],\n",
       " 'brother': ['brother', 'brothers'],\n",
       " 'awar': ['aware', 'awareness'],\n",
       " 'associt': ['associted'],\n",
       " 'e': ['e'],\n",
       " 'rollov': ['rollovers', 'rollover'],\n",
       " 'common': ['common'],\n",
       " 'segment': ['segment'],\n",
       " 'final': ['finally', 'final', 'finalize', 'finale', 'finalized'],\n",
       " 'term': ['terms', 'termed', 'term'],\n",
       " 'admit': ['admitted', 'admits', 'admit', 'admitting'],\n",
       " 'environment': ['environmentally', 'environmental'],\n",
       " 'friendli': ['friendly', 'friendliness'],\n",
       " 'safer': ['safer'],\n",
       " 'occup': ['occupants', 'occupant', 'occupation'],\n",
       " 'environ': ['environment', 'environments'],\n",
       " 'interest': ['interesting', 'interest', 'interested', 'interests'],\n",
       " 'twist': ['twist', 'twisted', 'twists', 'twisting'],\n",
       " 'reduc': ['reduce', 'reducing', 'reduces', 'reduced'],\n",
       " 'product': ['production', 'products', 'product', 'productions'],\n",
       " '25': ['25'],\n",
       " 'percentag': ['percentage'],\n",
       " 'saw': ['saw', 'sawed'],\n",
       " 'ago': ['ago'],\n",
       " 'drop': ['dropping', 'drop', 'dropped', 'drops'],\n",
       " 'mayb': ['maybe'],\n",
       " 'william': ['william', 'williams'],\n",
       " 'jr': ['jr'],\n",
       " 'epinion': ['epinion', 'epinions'],\n",
       " 'action': ['action', 'actions'],\n",
       " 'know': ['know', 'knowing', 'knows'],\n",
       " 'compani': ['company', 'companies', 'companys'],\n",
       " 'add': ['add', 'adds'],\n",
       " 'stock': ['stock', 'stocked'],\n",
       " 'purpos': ['purpose', 'purposes'],\n",
       " 'wouldnt': ['wouldnt'],\n",
       " 'havent': ['havent'],\n",
       " 'shouldnt': ['shouldnt'],\n",
       " 'detract': ['detract', 'detracted', 'detracting', 'detracts', 'detraction'],\n",
       " 'view': ['view', 'views', 'viewed', 'viewing'],\n",
       " 'exampl': ['example', 'examples'],\n",
       " 'cuban': ['cuban'],\n",
       " 'american': ['american', 'americans', 'americanized'],\n",
       " 'elian': ['elian'],\n",
       " 'home': ['home', 'homely', 'homes'],\n",
       " 'agre': ['agree', 'agreed', 'agreeing', 'agrees'],\n",
       " 'person': ['personally',\n",
       "  'person',\n",
       "  'personal',\n",
       "  'personalities',\n",
       "  'persons',\n",
       "  'personality',\n",
       "  'personable',\n",
       "  'personalize'],\n",
       " 'respons': ['responsibility',\n",
       "  'responsible',\n",
       "  'responses',\n",
       "  'responsive',\n",
       "  'response',\n",
       "  'responsively',\n",
       "  'responsibilities',\n",
       "  'responsiveness',\n",
       "  'responsibly'],\n",
       " 'gt': ['gt', 'gts'],\n",
       " 'jail': ['jail'],\n",
       " 'collect': ['collect',\n",
       "  'collects',\n",
       "  'collection',\n",
       "  'collectible',\n",
       "  'collectibility',\n",
       "  'collectables',\n",
       "  'collecting'],\n",
       " 'place': ['place', 'placed', 'places', 'placing'],\n",
       " 'analyz': ['analyze'],\n",
       " 'trend': ['trends', 'trend'],\n",
       " 'one': ['ones'],\n",
       " 'texan': ['texans'],\n",
       " 'group': ['group', 'groups', 'grouped'],\n",
       " 'statist': ['statistically', 'statistics'],\n",
       " 'smartest': ['smartest'],\n",
       " 'bunch': ['bunch', 'bunching'],\n",
       " 'born': ['born', 'borne'],\n",
       " 'indiana': ['indiana'],\n",
       " 'tradit': ['traditionally', 'tradition', 'traditional'],\n",
       " 'texa': ['texas'],\n",
       " 'instead': ['instead'],\n",
       " 'build': ['building', 'build', 'builds'],\n",
       " 'statement': ['statement', 'statements'],\n",
       " 'short': ['shorts', 'shorted', 'short'],\n",
       " 'couldnt': ['couldnt'],\n",
       " 'forev': ['forever'],\n",
       " 'infact': ['infact'],\n",
       " '00': ['00'],\n",
       " 'spoil': ['spoiled', 'spoiling'],\n",
       " 'automak': ['automakers'],\n",
       " 'europ': ['europe'],\n",
       " 'claim': ['claims', 'claimed', 'claim', 'claiming'],\n",
       " 'higher': ['higher'],\n",
       " '12': ['12'],\n",
       " 'tell': ['tell', 'telling', 'tells'],\n",
       " 'dalla': ['dallas'],\n",
       " 'fort': ['fort', 'forte'],\n",
       " '5000': ['5000'],\n",
       " 'arent': ['arent'],\n",
       " 'sell': ['selling', 'sell', 'sells'],\n",
       " 'conform': ['conform', 'conformity', 'conforming'],\n",
       " 'epa': ['epa'],\n",
       " 'regul': ['regulations', 'regulation', 'regulator', 'regulates'],\n",
       " 'state': ['stating', 'state', 'states', 'stated'],\n",
       " 'lev': ['lev'],\n",
       " 'emiss': ['emission', 'emissions'],\n",
       " 'comparison': ['comparison', 'comparisons'],\n",
       " 'coal': ['coal'],\n",
       " 'plant': ['plant', 'planted', 'plants', 'planting'],\n",
       " 'produc': ['produce', 'produces', 'produced', 'producing'],\n",
       " 'pollut': ['pollution', 'pollute', 'polluted', 'pollutants'],\n",
       " 'honda': ['honda', 'hondas'],\n",
       " 'bother': ['bother', 'bothers', 'bothered', 'bothering'],\n",
       " 'heck': ['heck'],\n",
       " '1974': ['1974'],\n",
       " 'cadillac': ['cadillac', 'cadillacs'],\n",
       " 'hears': ['hearse'],\n",
       " 'ye': ['yes', 'ye'],\n",
       " 'irrit': ['irritates',\n",
       "  'irritating',\n",
       "  'irritated',\n",
       "  'irritations',\n",
       "  'irritants',\n",
       "  'irritation'],\n",
       " 'whine': ['whining', 'whines', 'whine'],\n",
       " 'news': ['news'],\n",
       " 'gripe': ['griping', 'gripe', 'gripes', 'griped'],\n",
       " 'ole': ['ole'],\n",
       " 'clearli': ['clearly'],\n",
       " 'publicli': ['publicly'],\n",
       " 'recogn': ['recognized', 'recognize'],\n",
       " 'death': ['deaths', 'death'],\n",
       " 'self': ['self'],\n",
       " 'capabl': ['capable', 'capability', 'capabilities', 'capably'],\n",
       " 'unfortun': ['unfortunately', 'unfortunate'],\n",
       " 'soccer': ['soccer'],\n",
       " 'mom': ['moms', 'mom'],\n",
       " 'argu': ['arguing', 'argue', 'argues'],\n",
       " 'stuff': ['stuff'],\n",
       " 'complet': ['completely',\n",
       "  'complete',\n",
       "  'completes',\n",
       "  'completed',\n",
       "  'completing',\n",
       "  'completion'],\n",
       " 'miata': ['miata', 'miatas'],\n",
       " 'plow': ['plowed', 'plow', 'plows', 'plowing'],\n",
       " 'bar': ['bar', 'bars'],\n",
       " 'monster': ['monster', 'monsters', 'monsterous'],\n",
       " 'inher': ['inherently', 'inherent'],\n",
       " 'california': ['california'],\n",
       " 'charg': ['charged', 'charge', 'charges', 'charging'],\n",
       " 'convict': ['convicted'],\n",
       " 'manslaught': ['manslaughter'],\n",
       " 'red': ['red'],\n",
       " 'juri': ['jury'],\n",
       " 'sob': ['sobs'],\n",
       " 'pm': ['pms', 'pm'],\n",
       " 'deadli': ['deadly'],\n",
       " 'mad': ['mad', 'madness', 'madding'],\n",
       " 'woman': ['woman', 'womans'],\n",
       " 'larger': ['larger'],\n",
       " 'hit': ['hit', 'hitting', 'hits'],\n",
       " 'target': ['target', 'targeted', 'targeting'],\n",
       " 'eescrib': ['eescribe'],\n",
       " 'angri': ['angry'],\n",
       " ...}"
      ]
     },
     "execution_count": 414,
     "metadata": {},
     "output_type": "execute_result"
    }
   ],
   "source": [
    "# Creating a Stem Dict \n",
    "stem_dic = {s: [] for s in stems}\n",
    "\n",
    "for w in corpus: \n",
    "    key = getStem(w)\n",
    "    stem_dic[key].append(w)\n",
    "\n",
    "stem_dic"
   ]
  },
  {
   "cell_type": "markdown",
   "metadata": {},
   "source": [
    "The submission demonstrates that words with the same stem have been appropriately recognised and treated as variations of the stem? "
   ]
  },
  {
   "cell_type": "code",
   "execution_count": 415,
   "metadata": {},
   "outputs": [
    {
     "data": {
      "text/plain": [
       "['fault', 'faults']"
      ]
     },
     "execution_count": 415,
     "metadata": {},
     "output_type": "execute_result"
    }
   ],
   "source": [
    "stem_dic[getStem('Fault')]"
   ]
  },
  {
   "cell_type": "code",
   "execution_count": 416,
   "metadata": {},
   "outputs": [
    {
     "data": {
      "text/plain": [
       "['computer', 'computers']"
      ]
     },
     "execution_count": 416,
     "metadata": {},
     "output_type": "execute_result"
    }
   ],
   "source": [
    "stem_dic[getStem('Computer')]"
   ]
  },
  {
   "cell_type": "code",
   "execution_count": 417,
   "metadata": {},
   "outputs": [
    {
     "data": {
      "text/plain": [
       "['car', 'cars', 'carring']"
      ]
     },
     "execution_count": 417,
     "metadata": {},
     "output_type": "execute_result"
    }
   ],
   "source": [
    "stem_dic[getStem('Car')]"
   ]
  },
  {
   "cell_type": "code",
   "execution_count": 418,
   "metadata": {},
   "outputs": [],
   "source": [
    "car_reviews['Stems'] = stems_per_review"
   ]
  },
  {
   "cell_type": "code",
   "execution_count": 419,
   "metadata": {},
   "outputs": [
    {
     "data": {
      "text/html": [
       "<div>\n",
       "<style scoped>\n",
       "    .dataframe tbody tr th:only-of-type {\n",
       "        vertical-align: middle;\n",
       "    }\n",
       "\n",
       "    .dataframe tbody tr th {\n",
       "        vertical-align: top;\n",
       "    }\n",
       "\n",
       "    .dataframe thead th {\n",
       "        text-align: right;\n",
       "    }\n",
       "</style>\n",
       "<table border=\"1\" class=\"dataframe\">\n",
       "  <thead>\n",
       "    <tr style=\"text-align: right;\">\n",
       "      <th></th>\n",
       "      <th>Sentiment</th>\n",
       "      <th>Review</th>\n",
       "      <th>Stems</th>\n",
       "    </tr>\n",
       "  </thead>\n",
       "  <tbody>\n",
       "    <tr>\n",
       "      <th>0</th>\n",
       "      <td>Neg</td>\n",
       "      <td>In 1992 we bought a new Taurus and we really ...</td>\n",
       "      <td>in 1992 we bought a new tauru and realli love ...</td>\n",
       "    </tr>\n",
       "    <tr>\n",
       "      <th>1</th>\n",
       "      <td>Neg</td>\n",
       "      <td>The last business trip  I drove to San Franci...</td>\n",
       "      <td>the last busi trip drove to san francisco went...</td>\n",
       "    </tr>\n",
       "    <tr>\n",
       "      <th>2</th>\n",
       "      <td>Neg</td>\n",
       "      <td>My husband and I purchased a 1990 Ford F250 a...</td>\n",
       "      <td>my husband i purchas 1990 ford f250 had noth b...</td>\n",
       "    </tr>\n",
       "    <tr>\n",
       "      <th>3</th>\n",
       "      <td>Neg</td>\n",
       "      <td>I feel I have a thorough opinion of this truc...</td>\n",
       "      <td>i feel have thorough opinion of thi truck comp...</td>\n",
       "    </tr>\n",
       "    <tr>\n",
       "      <th>4</th>\n",
       "      <td>Neg</td>\n",
       "      <td>AS a mother of 3  all of whom are still in ca...</td>\n",
       "      <td>as mother of 3 all whom are still in carseat o...</td>\n",
       "    </tr>\n",
       "  </tbody>\n",
       "</table>\n",
       "</div>"
      ],
      "text/plain": [
       "  Sentiment                                             Review  \\\n",
       "0       Neg   In 1992 we bought a new Taurus and we really ...   \n",
       "1       Neg   The last business trip  I drove to San Franci...   \n",
       "2       Neg   My husband and I purchased a 1990 Ford F250 a...   \n",
       "3       Neg   I feel I have a thorough opinion of this truc...   \n",
       "4       Neg   AS a mother of 3  all of whom are still in ca...   \n",
       "\n",
       "                                               Stems  \n",
       "0  in 1992 we bought a new tauru and realli love ...  \n",
       "1  the last busi trip drove to san francisco went...  \n",
       "2  my husband i purchas 1990 ford f250 had noth b...  \n",
       "3  i feel have thorough opinion of thi truck comp...  \n",
       "4  as mother of 3 all whom are still in carseat o...  "
      ]
     },
     "execution_count": 419,
     "metadata": {},
     "output_type": "execute_result"
    }
   ],
   "source": [
    "car_reviews.head()"
   ]
  },
  {
   "cell_type": "markdown",
   "metadata": {},
   "source": [
    "Does the code produce some output to demonstrate that a vector has been created for each review, where each element in the vector represents EITHER a binary variable indicating the presence of a word/stem in a review OR the number of times that a word (or word stem) appears? Note that the output does not need to show the vector for all reviews, this only needs to contain a small sample of reviews."
   ]
  },
  {
   "cell_type": "code",
   "execution_count": 420,
   "metadata": {},
   "outputs": [
    {
     "name": "stdout",
     "output_type": "stream",
     "text": [
      "[[0 0 0 ... 0 0 0]\n",
      " [0 0 0 ... 0 0 0]\n",
      " [0 1 0 ... 0 0 0]\n",
      " ...\n",
      " [0 1 0 ... 0 1 0]\n",
      " [0 0 0 ... 0 0 0]\n",
      " [0 0 0 ... 0 0 0]]\n"
     ]
    }
   ],
   "source": [
    "from sklearn.feature_extraction.text import CountVectorizer\n",
    "\n",
    "vectorizer = CountVectorizer()\n",
    "X = vectorizer.fit_transform(car_reviews['Stems'])\n",
    "print(X.toarray())"
   ]
  },
  {
   "cell_type": "code",
   "execution_count": 421,
   "metadata": {},
   "outputs": [],
   "source": [
    "vectors = [x for x in X.toarray()]"
   ]
  },
  {
   "cell_type": "code",
   "execution_count": 422,
   "metadata": {},
   "outputs": [],
   "source": [
    "car_reviews['Vector'] = vectors"
   ]
  },
  {
   "cell_type": "code",
   "execution_count": 423,
   "metadata": {},
   "outputs": [
    {
     "data": {
      "text/html": [
       "<div>\n",
       "<style scoped>\n",
       "    .dataframe tbody tr th:only-of-type {\n",
       "        vertical-align: middle;\n",
       "    }\n",
       "\n",
       "    .dataframe tbody tr th {\n",
       "        vertical-align: top;\n",
       "    }\n",
       "\n",
       "    .dataframe thead th {\n",
       "        text-align: right;\n",
       "    }\n",
       "</style>\n",
       "<table border=\"1\" class=\"dataframe\">\n",
       "  <thead>\n",
       "    <tr style=\"text-align: right;\">\n",
       "      <th></th>\n",
       "      <th>Sentiment</th>\n",
       "      <th>Review</th>\n",
       "      <th>Stems</th>\n",
       "      <th>Vector</th>\n",
       "    </tr>\n",
       "  </thead>\n",
       "  <tbody>\n",
       "    <tr>\n",
       "      <th>0</th>\n",
       "      <td>Neg</td>\n",
       "      <td>In 1992 we bought a new Taurus and we really ...</td>\n",
       "      <td>in 1992 we bought a new tauru and realli love ...</td>\n",
       "      <td>[0, 0, 0, 0, 0, 0, 0, 0, 0, 0, 0, 0, 0, 0, 0, ...</td>\n",
       "    </tr>\n",
       "    <tr>\n",
       "      <th>1</th>\n",
       "      <td>Neg</td>\n",
       "      <td>The last business trip  I drove to San Franci...</td>\n",
       "      <td>the last busi trip drove to san francisco went...</td>\n",
       "      <td>[0, 0, 0, 0, 0, 0, 0, 0, 0, 0, 0, 0, 0, 0, 0, ...</td>\n",
       "    </tr>\n",
       "    <tr>\n",
       "      <th>2</th>\n",
       "      <td>Neg</td>\n",
       "      <td>My husband and I purchased a 1990 Ford F250 a...</td>\n",
       "      <td>my husband i purchas 1990 ford f250 had noth b...</td>\n",
       "      <td>[0, 1, 0, 0, 0, 0, 0, 0, 0, 0, 0, 0, 0, 0, 0, ...</td>\n",
       "    </tr>\n",
       "    <tr>\n",
       "      <th>3</th>\n",
       "      <td>Neg</td>\n",
       "      <td>I feel I have a thorough opinion of this truc...</td>\n",
       "      <td>i feel have thorough opinion of thi truck comp...</td>\n",
       "      <td>[0, 0, 0, 0, 0, 0, 0, 0, 0, 0, 0, 0, 0, 0, 0, ...</td>\n",
       "    </tr>\n",
       "    <tr>\n",
       "      <th>4</th>\n",
       "      <td>Neg</td>\n",
       "      <td>AS a mother of 3  all of whom are still in ca...</td>\n",
       "      <td>as mother of 3 all whom are still in carseat o...</td>\n",
       "      <td>[0, 0, 0, 0, 0, 0, 0, 0, 0, 0, 0, 0, 0, 0, 0, ...</td>\n",
       "    </tr>\n",
       "  </tbody>\n",
       "</table>\n",
       "</div>"
      ],
      "text/plain": [
       "  Sentiment                                             Review  \\\n",
       "0       Neg   In 1992 we bought a new Taurus and we really ...   \n",
       "1       Neg   The last business trip  I drove to San Franci...   \n",
       "2       Neg   My husband and I purchased a 1990 Ford F250 a...   \n",
       "3       Neg   I feel I have a thorough opinion of this truc...   \n",
       "4       Neg   AS a mother of 3  all of whom are still in ca...   \n",
       "\n",
       "                                               Stems  \\\n",
       "0  in 1992 we bought a new tauru and realli love ...   \n",
       "1  the last busi trip drove to san francisco went...   \n",
       "2  my husband i purchas 1990 ford f250 had noth b...   \n",
       "3  i feel have thorough opinion of thi truck comp...   \n",
       "4  as mother of 3 all whom are still in carseat o...   \n",
       "\n",
       "                                              Vector  \n",
       "0  [0, 0, 0, 0, 0, 0, 0, 0, 0, 0, 0, 0, 0, 0, 0, ...  \n",
       "1  [0, 0, 0, 0, 0, 0, 0, 0, 0, 0, 0, 0, 0, 0, 0, ...  \n",
       "2  [0, 1, 0, 0, 0, 0, 0, 0, 0, 0, 0, 0, 0, 0, 0, ...  \n",
       "3  [0, 0, 0, 0, 0, 0, 0, 0, 0, 0, 0, 0, 0, 0, 0, ...  \n",
       "4  [0, 0, 0, 0, 0, 0, 0, 0, 0, 0, 0, 0, 0, 0, 0, ...  "
      ]
     },
     "execution_count": 423,
     "metadata": {},
     "output_type": "execute_result"
    }
   ],
   "source": [
    "car_reviews.head()"
   ]
  },
  {
   "cell_type": "code",
   "execution_count": 424,
   "metadata": {},
   "outputs": [
    {
     "data": {
      "text/plain": [
       "10995"
      ]
     },
     "execution_count": 424,
     "metadata": {},
     "output_type": "execute_result"
    }
   ],
   "source": [
    "len(X.toarray()[0])"
   ]
  },
  {
   "cell_type": "code",
   "execution_count": 425,
   "metadata": {},
   "outputs": [],
   "source": [
    "y = [1 if x=='Pos' else 0 for x in car_reviews['Sentiment']]"
   ]
  },
  {
   "cell_type": "code",
   "execution_count": 426,
   "metadata": {},
   "outputs": [
    {
     "data": {
      "text/plain": [
       "[0, 0, 0, 0, 0]"
      ]
     },
     "execution_count": 426,
     "metadata": {},
     "output_type": "execute_result"
    }
   ],
   "source": [
    "y[0:5]"
   ]
  },
  {
   "cell_type": "code",
   "execution_count": 427,
   "metadata": {},
   "outputs": [
    {
     "data": {
      "text/plain": [
       "[1, 1, 1, 1, 1]"
      ]
     },
     "execution_count": 427,
     "metadata": {},
     "output_type": "execute_result"
    }
   ],
   "source": [
    "y[len(y) - 5:]"
   ]
  },
  {
   "cell_type": "markdown",
   "metadata": {},
   "source": [
    "Does the code clearly show that 80% of the data has been used to train the classification model, and that the remaining 20% of the data set has been used as test data? AND does it show that only the training data has been used up to the point where the model has been trained (no test data)? AND is the code able to cope with words that appear in the test data but not in the training dataset?"
   ]
  },
  {
   "cell_type": "code",
   "execution_count": 428,
   "metadata": {},
   "outputs": [],
   "source": [
    "from sklearn.metrics import confusion_matrix\n",
    "from sklearn.metrics import ConfusionMatrixDisplay\n",
    "\n",
    "# With this method, we are able to use only the training data up to the point where the model has been trained and test it \n",
    "# the appropriate test data\n",
    "def run(clf, test_X, test_y): \n",
    "    total = 0 \n",
    "    \n",
    "    y_pred = []\n",
    "    y_true = test_y\n",
    "    y_correct = []\n",
    "    \n",
    "    for x, y in zip(test_X, test_y): \n",
    "        pred = clf.predict(x)\n",
    "        y_pred.append(pred)\n",
    "        if pred == y: \n",
    "            total += 1\n",
    "            y_correct.append(1)\n",
    "        else: \n",
    "            y_correct.append(0)\n",
    "            \n",
    "   # c_m = confusion_matrix(y_true, y_pred)\n",
    "    accuracy = total / test_X.shape[0]\n",
    "\n",
    "    return y_pred, accuracy, #c_m\n",
    "\n",
    "def print_confusion(confusion_matrix):\n",
    "    print('True Positive ' + str(confusion_matrix[0][0]))\n",
    "    print('False Positive ' + str(confusion_matrix[0][1]))\n",
    "    print('True Negative ' + str(confusion_matrix[1][0]))\n",
    "    print('False Negative ' + str(confusion_matrix[1][1]))\n"
   ]
  },
  {
   "cell_type": "code",
   "execution_count": 429,
   "metadata": {},
   "outputs": [],
   "source": [
    "X_train, X_test, y_train, y_test = train_test_split(X, y, test_size=0.2)"
   ]
  },
  {
   "cell_type": "markdown",
   "metadata": {},
   "source": [
    "Does the code clearly show that an appropriate Naïve Bayes model has been used for classification, either through the use of an existing library or coded from scratch"
   ]
  },
  {
   "cell_type": "code",
   "execution_count": 430,
   "metadata": {},
   "outputs": [],
   "source": [
    "from sklearn.naive_bayes import MultinomialNB\n",
    "mn_clf = MultinomialNB()\n",
    "mn_clf.fit(X_train, y_train)\n",
    "output, accuracy  = run(mn_clf, X_test, y_test)\n"
   ]
  },
  {
   "cell_type": "code",
   "execution_count": 431,
   "metadata": {},
   "outputs": [
    {
     "data": {
      "text/plain": [
       "0.7978339350180506"
      ]
     },
     "execution_count": 431,
     "metadata": {},
     "output_type": "execute_result"
    }
   ],
   "source": [
    "accuracy"
   ]
  },
  {
   "cell_type": "code",
   "execution_count": 432,
   "metadata": {},
   "outputs": [],
   "source": [
    "mn_cm = confusion_matrix(y_test, output)"
   ]
  },
  {
   "cell_type": "code",
   "execution_count": 433,
   "metadata": {},
   "outputs": [
    {
     "name": "stdout",
     "output_type": "stream",
     "text": [
      "True Positive 104\n",
      "False Positive 32\n",
      "True Negative 24\n",
      "False Negative 117\n"
     ]
    }
   ],
   "source": [
    "print_confusion(mn_cm)"
   ]
  },
  {
   "cell_type": "markdown",
   "metadata": {},
   "source": [
    "# Part 2"
   ]
  },
  {
   "cell_type": "markdown",
   "metadata": {},
   "source": [
    "Does the Jupyter notebook include a markdown/comment section that clearly explains how the approach taken in part two is expected to improve on the solution to part one. Are the reasons for the expected improvements clearly justified and explained with one or more references (e.g. to a published source scientific paper, article, book)?"
   ]
  },
  {
   "cell_type": "markdown",
   "metadata": {},
   "source": [
    "# Improving Classification Accuracy\n",
    "\n",
    "In order to improve the solution from section 1, I will implement an ensemble method of algorithms. Ensemble methods can be used to improve the accuracy of statistical predictive models (Bulhmann 2012), which is what is the desired for the following section. \n",
    "\n",
    "Ensemble methods allows us to construct a linear collection of models fitting methods, instead of just using a single model. \n",
    "\n",
    "An example of an ensemble method is bagging, or boostrap aggregation. Breiman (1996) writes, \"If perturbing the learning set can cause significant changes in the predictor constructed, then bagging can improve accuracy.\"\n",
    "\n",
    "As such, I will explore if a bagging ensemble method of Bagging and evaluate the model using repeated stratified k folds. This is expected to improve on the predictive performance of the previous section by ensuring reliability of the predictions and ensuring the stability/robustness of the model.\n",
    "\n"
   ]
  },
  {
   "cell_type": "code",
   "execution_count": 434,
   "metadata": {},
   "outputs": [],
   "source": [
    "#IMPORTING RELEVANT MODULES\n",
    "from sklearn.model_selection import cross_val_score\n",
    "from sklearn.model_selection import RepeatedStratifiedKFold\n",
    "from sklearn.ensemble import BaggingClassifier\n",
    "from numpy import mean\n",
    "from numpy import std"
   ]
  },
  {
   "cell_type": "code",
   "execution_count": 435,
   "metadata": {},
   "outputs": [],
   "source": [
    "#DEFINE BAGGING CLASSIFIER\n",
    "bagging_clf = BaggingClassifier()"
   ]
  },
  {
   "cell_type": "markdown",
   "metadata": {},
   "source": [
    "# First I will evaluate the Bagging Classifier only -"
   ]
  },
  {
   "cell_type": "code",
   "execution_count": 436,
   "metadata": {},
   "outputs": [
    {
     "data": {
      "text/plain": [
       "BaggingClassifier()"
      ]
     },
     "execution_count": 436,
     "metadata": {},
     "output_type": "execute_result"
    }
   ],
   "source": [
    "bagging_clf.fit(X_train, y_train)"
   ]
  },
  {
   "cell_type": "code",
   "execution_count": 437,
   "metadata": {},
   "outputs": [],
   "source": [
    "bag_output, accuracy  = run(bagging_clf, X_test, y_test)"
   ]
  },
  {
   "cell_type": "code",
   "execution_count": 438,
   "metadata": {},
   "outputs": [
    {
     "data": {
      "text/plain": [
       "0.703971119133574"
      ]
     },
     "execution_count": 438,
     "metadata": {},
     "output_type": "execute_result"
    }
   ],
   "source": [
    "accuracy"
   ]
  },
  {
   "cell_type": "code",
   "execution_count": 439,
   "metadata": {},
   "outputs": [],
   "source": [
    "bagging_cm = confusion_matrix(y_test, bag_output)"
   ]
  },
  {
   "cell_type": "code",
   "execution_count": 440,
   "metadata": {},
   "outputs": [
    {
     "name": "stdout",
     "output_type": "stream",
     "text": [
      "True Positive 96\n",
      "False Positive 40\n",
      "True Negative 42\n",
      "False Negative 99\n"
     ]
    }
   ],
   "source": [
    "# Bagging Confusion Matrix\n",
    "print_confusion(bagging_cm)"
   ]
  },
  {
   "cell_type": "markdown",
   "metadata": {},
   "source": [
    "# Now I will perform Bagging with K Fold Cross Validation "
   ]
  },
  {
   "cell_type": "code",
   "execution_count": 441,
   "metadata": {},
   "outputs": [],
   "source": [
    "bagging_clf_2 = BaggingClassifier()\n",
    "k = 20\n",
    "#EVALUATE BAGGING CLASSIFIER WITH K FOLDS\n",
    "cv = RepeatedStratifiedKFold(n_splits=k, n_repeats=3, random_state=1)"
   ]
  },
  {
   "cell_type": "code",
   "execution_count": 442,
   "metadata": {},
   "outputs": [],
   "source": [
    "b_scores = cross_val_score(bagging_clf_2, X, y, scoring='accuracy', cv=cv, n_jobs=-1, error_score='raise')"
   ]
  },
  {
   "cell_type": "code",
   "execution_count": 443,
   "metadata": {},
   "outputs": [
    {
     "name": "stdout",
     "output_type": "stream",
     "text": [
      "Accuracy: 0.703 (0.055)\n"
     ]
    }
   ],
   "source": [
    "print('Accuracy: %.3f (%.3f)' % (mean(b_scores), std(b_scores)))"
   ]
  },
  {
   "cell_type": "code",
   "execution_count": 444,
   "metadata": {},
   "outputs": [
    {
     "data": {
      "text/plain": [
       "0.8405797101449275"
      ]
     },
     "execution_count": 444,
     "metadata": {},
     "output_type": "execute_result"
    }
   ],
   "source": [
    "# Highest Accuracy \n",
    "max(b_scores)"
   ]
  },
  {
   "cell_type": "code",
   "execution_count": 445,
   "metadata": {},
   "outputs": [
    {
     "data": {
      "text/plain": [
       "0.5797101449275363"
      ]
     },
     "execution_count": 445,
     "metadata": {},
     "output_type": "execute_result"
    }
   ],
   "source": [
    "# Lowest Accuracy \n",
    "min(b_scores)"
   ]
  },
  {
   "cell_type": "markdown",
   "metadata": {},
   "source": [
    "# Evaluating Naive Bayes with K-Fold Cross Validation "
   ]
  },
  {
   "cell_type": "code",
   "execution_count": 446,
   "metadata": {},
   "outputs": [],
   "source": [
    "mn_2 = MultinomialNB()"
   ]
  },
  {
   "cell_type": "code",
   "execution_count": 447,
   "metadata": {},
   "outputs": [],
   "source": [
    "#EVALUATE BAGGING CLASSIFIER WITH K FOLDS\n",
    "cv_2 = RepeatedStratifiedKFold(n_splits=k, n_repeats=3, random_state=1)"
   ]
  },
  {
   "cell_type": "code",
   "execution_count": 448,
   "metadata": {},
   "outputs": [],
   "source": [
    "mn_scores = cross_val_score(mn_2, X, y, scoring='accuracy', cv=cv, n_jobs=-1, error_score='raise')"
   ]
  },
  {
   "cell_type": "code",
   "execution_count": 449,
   "metadata": {},
   "outputs": [
    {
     "name": "stdout",
     "output_type": "stream",
     "text": [
      "Accuracy: 0.791 (0.050)\n"
     ]
    }
   ],
   "source": [
    "print('Accuracy: %.3f (%.3f)' % (mean(mn_scores), std(mn_scores)))"
   ]
  },
  {
   "cell_type": "code",
   "execution_count": 450,
   "metadata": {},
   "outputs": [
    {
     "data": {
      "text/plain": [
       "0.8985507246376812"
      ]
     },
     "execution_count": 450,
     "metadata": {},
     "output_type": "execute_result"
    }
   ],
   "source": [
    "# Highest Accuracy \n",
    "max(mn_scores)"
   ]
  },
  {
   "cell_type": "code",
   "execution_count": 451,
   "metadata": {},
   "outputs": [
    {
     "data": {
      "text/plain": [
       "0.6666666666666666"
      ]
     },
     "execution_count": 451,
     "metadata": {},
     "output_type": "execute_result"
    }
   ],
   "source": [
    "# Lowest Accuracy \n",
    "min(mn_scores)"
   ]
  },
  {
   "cell_type": "markdown",
   "metadata": {},
   "source": [
    "## Discuss and compare the performance of the part one and part two classification approaches and explains whether or not the expected improvements were achieved (and why this may be the case).\n",
    "\n",
    "\n",
    "## Conclusion\n",
    "\n",
    "When comparing the single instance of Naive Bayes and the Bagging model, and when comparing evaluation through K-fold cross validation, it has become clear that Naive Bayes has a higher average predictive performance. \n",
    "\n",
    "Bagging is shown to smooth decision trees for classifiers, yielding smaller variance and mean squared error (Bulhmann and Yu, 2002). However, with this smoothing taking place, Naive Bayes still produces a predictive performance greater than that of Bagging, whilst being less computationally expensive and a simpler model to implement. \n",
    "\n",
    "Schneider (2005) argues that, \"performance [for naive bayes] is often degraded because it does not model text well, and by inappropriate feature selection and the lack of reliable confidence scores. The features were simply the corpus determined in section one. This may not be the best feature selection process and N-gram or TF-IDF may be more suitable in the future. I have implemented an illustration potential features to explore in the future, located in the next section. \n",
    "\n",
    "Below is a visualisation of the two models predictive performance: "
   ]
  },
  {
   "cell_type": "code",
   "execution_count": 452,
   "metadata": {},
   "outputs": [
    {
     "data": {
      "image/png": "[encoded data removed]",
      "text/plain": [
       "<Figure size 432x288 with 1 Axes>"
      ]
     },
     "metadata": {
      "needs_background": "light"
     },
     "output_type": "display_data"
    }
   ],
   "source": [
    "import matplotlib.pyplot as plt\n",
    "\n",
    "mn_y = mn_scores \n",
    "b_y = b_scores\n",
    "iterations = [x for x in range(len(mn_scores))]\n",
    "\n",
    "plt.plot(iterations, mn_y)\n",
    "plt.ylabel('Accuracy')\n",
    "plt.title('Multinomial NB Accuracies')\n",
    "plt.show()"
   ]
  },
  {
   "cell_type": "code",
   "execution_count": 453,
   "metadata": {},
   "outputs": [
    {
     "data": {
      "image/png": "[encoded data removed]",
      "text/plain": [
       "<Figure size 432x288 with 1 Axes>"
      ]
     },
     "metadata": {
      "needs_background": "light"
     },
     "output_type": "display_data"
    }
   ],
   "source": [
    "plt.plot(iterations, b_y)\n",
    "plt.ylabel('Accuracy')\n",
    "plt.title('Bagging Accuracies')\n",
    "plt.show()"
   ]
  },
  {
   "cell_type": "markdown",
   "metadata": {},
   "source": [
    "## Interesting point, NLP - Sentiment Analysis using polarities and subjectivities of each review"
   ]
  },
  {
   "cell_type": "code",
   "execution_count": 454,
   "metadata": {},
   "outputs": [],
   "source": [
    "# Performing NLP sentiment analysis, obtaining the polariites and subjectivities of each review and visualising them\n",
    "\n",
    "import spacy\n",
    "from spacytextblob.spacytextblob import SpacyTextBlob\n",
    "\n",
    "\n",
    "polarities = []\n",
    "subjectivities = []\n",
    "assessments = []\n",
    "\n",
    "nlp = spacy.load('en_core_web_sm')\n",
    "nlp.add_pipe('spacytextblob')\n",
    "    \n",
    "for s, r in zip(car_reviews['Sentiment'], car_reviews['Review']): \n",
    "    text = r\n",
    "    doc = nlp(text)\n",
    "    polarities.append(doc._.polarity)\n",
    "    subjectivities.append(doc._.subjectivity)\n",
    "    assessments.append(doc._.assessments)"
   ]
  },
  {
   "cell_type": "code",
   "execution_count": 455,
   "metadata": {},
   "outputs": [],
   "source": [
    "car_reviews['Mean Polarity'] = polarities"
   ]
  },
  {
   "cell_type": "code",
   "execution_count": 456,
   "metadata": {},
   "outputs": [
    {
     "data": {
      "text/plain": [
       "count    1382.000000\n",
       "mean        0.141520\n",
       "std         0.104851\n",
       "min        -0.312121\n",
       "25%         0.075372\n",
       "50%         0.138879\n",
       "75%         0.204485\n",
       "max         0.520833\n",
       "Name: Mean Polarity, dtype: float64"
      ]
     },
     "execution_count": 456,
     "metadata": {},
     "output_type": "execute_result"
    }
   ],
   "source": [
    "car_reviews['Mean Polarity'].describe()"
   ]
  },
  {
   "cell_type": "code",
   "execution_count": 457,
   "metadata": {},
   "outputs": [],
   "source": [
    "car_reviews['Mean Subjectivity'] = subjectivities"
   ]
  },
  {
   "cell_type": "markdown",
   "metadata": {},
   "source": [
    "### Visualisation of Mean Polarity of the document"
   ]
  },
  {
   "cell_type": "code",
   "execution_count": 458,
   "metadata": {},
   "outputs": [
    {
     "data": {
      "text/plain": [
       "<AxesSubplot:xlabel='Mean Polarity', ylabel='Sentiment'>"
      ]
     },
     "execution_count": 458,
     "metadata": {},
     "output_type": "execute_result"
    },
    {
     "data": {
      "image/png": "[encoded data removed]",
      "text/plain": [
       "<Figure size 432x288 with 1 Axes>"
      ]
     },
     "metadata": {
      "needs_background": "light"
     },
     "output_type": "display_data"
    }
   ],
   "source": [
    "import seaborn as sns\n",
    "\n",
    "sns.swarmplot(x=car_reviews['Mean Polarity'], y=car_reviews['Sentiment'], s=2)"
   ]
  },
  {
   "cell_type": "markdown",
   "metadata": {},
   "source": [
    "### Visualisation of Subjectivities of the document"
   ]
  },
  {
   "cell_type": "code",
   "execution_count": 460,
   "metadata": {},
   "outputs": [
    {
     "data": {
      "text/plain": [
       "<AxesSubplot:xlabel='Mean Subjectivity', ylabel='Sentiment'>"
      ]
     },
     "execution_count": 460,
     "metadata": {},
     "output_type": "execute_result"
    },
    {
     "data": {
      "image/png": "[encoded data removed]",
      "text/plain": [
       "<Figure size 432x288 with 1 Axes>"
      ]
     },
     "metadata": {
      "needs_background": "light"
     },
     "output_type": "display_data"
    }
   ],
   "source": [
    "sns.swarmplot(x=car_reviews['Mean Subjectivity'], y=car_reviews['Sentiment'], s=2)"
   ]
  },
  {
   "cell_type": "markdown",
   "metadata": {},
   "source": [
    "# References\n",
    "\n",
    "Breiman, L. Bagging predictors. Mach Learn 24, 123–140 (1996). https://doi.org/10.1007/BF00058655\n",
    "\n",
    "Bühlmann, P. Yu, B. \"Analyzing bagging.\" Ann. Statist. 30 (4) 927 - 961, August 2002. https://doi.org/10.1214/aos/1031689014\n",
    "\n",
    "Bühlmann P. (2012) Bagging, Boosting and Ensemble Methods. In: Gentle J., Härdle W., Mori Y. (eds) Handbook of Computational Statistics. Springer Handbooks of Computational Statistics. Springer, Berlin, Heidelberg. https://doi.org/10.1007/978-3-642-21551-3_33\n",
    "\n",
    "Schneider KM. (2005) Techniques for Improving the Performance of Naive Bayes for Text Classification. In: Gelbukh A. (eds) Computational Linguistics and Intelligent Text Processing. CICLing 2005. Lecture Notes in Computer Science, vol 3406. Springer, Berlin, Heidelberg. https://doi.org/10.1007/978-3-540-30586-6_76\n",
    "\n"
   ]
  },
  {
   "cell_type": "code",
   "execution_count": null,
   "metadata": {},
   "outputs": [],
   "source": []
  }
 ],
 "metadata": {
  "kernelspec": {
   "display_name": "Python 3",
   "language": "python",
   "name": "python3"
  },
  "language_info": {
   "codemirror_mode": {
    "name": "ipython",
    "version": 3
   },
   "file_extension": ".py",
   "mimetype": "text/x-python",
   "name": "python",
   "nbconvert_exporter": "python",
   "pygments_lexer": "ipython3",
   "version": "3.8.5"
  }
 },
 "nbformat": 4,
 "nbformat_minor": 4
}

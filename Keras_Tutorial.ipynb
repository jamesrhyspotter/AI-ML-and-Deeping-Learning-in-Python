{
  "nbformat": 4,
  "nbformat_minor": 0,
  "metadata": {
    "colab": {
      "name": "Keras Tutorial.ipynb",
      "provenance": [],
      "collapsed_sections": []
    },
    "kernelspec": {
      "name": "python3",
      "display_name": "Python 3"
    },
    "language_info": {
      "name": "python"
    }
  },
  "cells": [
    {
      "cell_type": "markdown",
      "source": [
        "## Data Preparation and Processing"
      ],
      "metadata": {
        "id": "dBZ9pA1g22DG"
      }
    },
    {
      "cell_type": "code",
      "source": [
        "import numpy as np\n",
        "from random import randint \n",
        "from sklearn.utils import shuffle\n",
        "from sklearn.preprocessing import MinMaxScaler"
      ],
      "metadata": {
        "id": "_5l8gc6w27Gw"
      },
      "execution_count": 3,
      "outputs": []
    },
    {
      "cell_type": "code",
      "source": [
        "train_labels = []\n",
        "train_samples = []"
      ],
      "metadata": {
        "id": "dPX3BTBd3Eon"
      },
      "execution_count": 4,
      "outputs": []
    },
    {
      "cell_type": "markdown",
      "source": [
        "Example Data \n",
        "- an experimental drug was tested on 2100 people, ranging from 13-100 \n",
        "- Ages 65 +: 95% of participants had side effects \n",
        "- Ages <65 : 95% had no side effects"
      ],
      "metadata": {
        "id": "qX_XCkOz3M8a"
      }
    },
    {
      "cell_type": "code",
      "source": [
        "for i in range(50):\n",
        "  random_younger = randint(13, 64)\n",
        "  train_samples.append(random_younger)\n",
        "  train_labels.append(1)\n",
        "\n",
        "  random_older = randint(65, 100)\n",
        "  train_samples.append(random_older)\n",
        "  train_labels.append(0)\n",
        "\n",
        "for i in range(1000):\n",
        "  random_younger = randint(13, 64)\n",
        "  train_samples.append(random_younger)\n",
        "  train_labels.append(0)\n",
        "\n",
        "  random_older = randint(65, 100)\n",
        "  train_samples.append(random_older)\n",
        "  train_labels.append(1)\n"
      ],
      "metadata": {
        "id": "I3gJVwSo3Lx9"
      },
      "execution_count": 5,
      "outputs": []
    },
    {
      "cell_type": "code",
      "source": [
        "train_samples[:10]"
      ],
      "metadata": {
        "colab": {
          "base_uri": "https://localhost:8080/"
        },
        "id": "wz6dOQ2I4Hlw",
        "outputId": "cdfc8e16-43f5-43e1-8025-57bcfc614b44"
      },
      "execution_count": 7,
      "outputs": [
        {
          "output_type": "execute_result",
          "data": {
            "text/plain": [
              "[52, 77, 43, 72, 23, 82, 64, 87, 27, 83]"
            ]
          },
          "metadata": {},
          "execution_count": 7
        }
      ]
    },
    {
      "cell_type": "code",
      "source": [
        "train_labels[:10]"
      ],
      "metadata": {
        "colab": {
          "base_uri": "https://localhost:8080/"
        },
        "id": "P5qb8EPF4Mro",
        "outputId": "5c309e48-5da7-46fb-df41-76b5529bdcb3"
      },
      "execution_count": 8,
      "outputs": [
        {
          "output_type": "execute_result",
          "data": {
            "text/plain": [
              "[1, 0, 1, 0, 1, 0, 1, 0, 1, 0]"
            ]
          },
          "metadata": {},
          "execution_count": 8
        }
      ]
    },
    {
      "cell_type": "code",
      "source": [
        "train_labels = np.array(train_labels)\n",
        "train_samples = np.array(train_samples)\n",
        "train_labels, train_samples = shuffle(train_labels, train_samples)"
      ],
      "metadata": {
        "id": "QUdzpSca4RnR"
      },
      "execution_count": 9,
      "outputs": []
    },
    {
      "cell_type": "code",
      "source": [
        "# normalising data \n",
        "scaler = MinMaxScaler(feature_range=(0,1))\n",
        "# our data is 1D so we need to transform it\n",
        "scaled_train_samples = scaler.fit_transform(train_samples.reshape(-1,1))"
      ],
      "metadata": {
        "id": "SYpliMRE4eGa"
      },
      "execution_count": 31,
      "outputs": []
    },
    {
      "cell_type": "code",
      "source": [
        "# EG\n",
        "train_samples.reshape(-1,1)"
      ],
      "metadata": {
        "colab": {
          "base_uri": "https://localhost:8080/"
        },
        "id": "l1OtJptE4tEs",
        "outputId": "cc6946d0-a649-4e00-ef85-def69a34750d"
      },
      "execution_count": 32,
      "outputs": [
        {
          "output_type": "execute_result",
          "data": {
            "text/plain": [
              "array([[21],\n",
              "       [42],\n",
              "       [79],\n",
              "       ...,\n",
              "       [32],\n",
              "       [57],\n",
              "       [99]])"
            ]
          },
          "metadata": {},
          "execution_count": 32
        }
      ]
    },
    {
      "cell_type": "code",
      "source": [
        "scaled_train_samples[:10]"
      ],
      "metadata": {
        "colab": {
          "base_uri": "https://localhost:8080/"
        },
        "id": "yMhxbREG4sQn",
        "outputId": "3aa8825a-0d4f-4777-b966-547d106527d0"
      },
      "execution_count": 33,
      "outputs": [
        {
          "output_type": "execute_result",
          "data": {
            "text/plain": [
              "array([[0.09195402],\n",
              "       [0.33333333],\n",
              "       [0.75862069],\n",
              "       [0.59770115],\n",
              "       [0.95402299],\n",
              "       [0.08045977],\n",
              "       [0.85057471],\n",
              "       [0.95402299],\n",
              "       [0.5862069 ],\n",
              "       [0.09195402]])"
            ]
          },
          "metadata": {},
          "execution_count": 33
        }
      ]
    },
    {
      "cell_type": "markdown",
      "source": [
        "## Sequential Model tf.keras"
      ],
      "metadata": {
        "id": "W2oDyDp846On"
      }
    },
    {
      "cell_type": "code",
      "source": [
        "import tensorflow as tf\n",
        "from tensorflow import keras \n",
        "from tensorflow.keras.models import Sequential\n",
        "from tensorflow.keras.layers import Activation, Dense\n",
        "from tensorflow.keras.optimizers import Adam \n",
        "from tensorflow.keras.metrics import categorical_crossentropy"
      ],
      "metadata": {
        "id": "DyDLK3dn41cS"
      },
      "execution_count": 34,
      "outputs": []
    },
    {
      "cell_type": "code",
      "source": [
        "physical_devices = tf.config.experimental.list_physical_devices('GPU')\n",
        "print(\"Num GPUs available : \", len(physical_devices))"
      ],
      "metadata": {
        "colab": {
          "base_uri": "https://localhost:8080/"
        },
        "id": "5xRVbAH486rQ",
        "outputId": "4228224e-efec-4fac-8ac4-3b4f08f1d2a4"
      },
      "execution_count": 35,
      "outputs": [
        {
          "output_type": "stream",
          "name": "stdout",
          "text": [
            "Num GPUs available :  0\n"
          ]
        }
      ]
    },
    {
      "cell_type": "code",
      "source": [
        "#tf.config.experimental.set_memory_growth(physical_devices[0], true)"
      ],
      "metadata": {
        "id": "ePGvohoI9L9Z"
      },
      "execution_count": 36,
      "outputs": []
    },
    {
      "cell_type": "code",
      "source": [
        "# Model we are building - Linear stack of layers, which is Sequential \n",
        "# Pass in a list of layers\n",
        "# we do not explicitly define the input data\n",
        "model = Sequential([\n",
        "                    Dense(units=16, input_shape=(1,), activation='relu'), \n",
        "                    Dense(units=32, activation='relu'),\n",
        "                    Dense(units=2, activation='softmax')\n",
        "])"
      ],
      "metadata": {
        "id": "UjPfUMKs9U-f"
      },
      "execution_count": 37,
      "outputs": []
    },
    {
      "cell_type": "code",
      "source": [
        "model.summary()"
      ],
      "metadata": {
        "colab": {
          "base_uri": "https://localhost:8080/"
        },
        "id": "N_i9oCiD9nfW",
        "outputId": "5d9827cf-de94-41ea-c790-b2fc74dee600"
      },
      "execution_count": 38,
      "outputs": [
        {
          "output_type": "stream",
          "name": "stdout",
          "text": [
            "Model: \"sequential_3\"\n",
            "_________________________________________________________________\n",
            " Layer (type)                Output Shape              Param #   \n",
            "=================================================================\n",
            " dense_9 (Dense)             (None, 16)                32        \n",
            "                                                                 \n",
            " dense_10 (Dense)            (None, 32)                544       \n",
            "                                                                 \n",
            " dense_11 (Dense)            (None, 2)                 66        \n",
            "                                                                 \n",
            "=================================================================\n",
            "Total params: 642\n",
            "Trainable params: 642\n",
            "Non-trainable params: 0\n",
            "_________________________________________________________________\n"
          ]
        }
      ]
    },
    {
      "cell_type": "code",
      "source": [
        "#Preparing model for training\n",
        "model.compile(optimizer=Adam(learning_rate=0.0001), loss=\"sparse_categorical_crossentropy\", metrics=['accuracy'])"
      ],
      "metadata": {
        "id": "m3aZ5coe9x99"
      },
      "execution_count": 39,
      "outputs": []
    },
    {
      "cell_type": "code",
      "source": [
        "# Training our model\n",
        "# x : our data \n",
        "# y : labels \n",
        "# validation split: train / test split\n",
        "# batch_size : how mnay samples per batch to be passed and processed at a given time\n",
        "# epochs : model trains on data 30 times\n",
        "# shuffle : data is shuffled by default when passed to the network \n",
        "# verbose : option to see output from running\n",
        "\n",
        "# validation_split will get the last X% of the dataset before shuffling, we shuffled beforehand to remove this problem \n",
        "model.fit(x=scaled_train_samples, y=train_labels, validation_split=0.1, batch_size=10, epochs=30, shuffle=True, verbose=2)"
      ],
      "metadata": {
        "colab": {
          "base_uri": "https://localhost:8080/"
        },
        "id": "bQFwpkKd_Q_0",
        "outputId": "40ccffca-b6cd-42e5-d92a-6e1a37d635e7"
      },
      "execution_count": 42,
      "outputs": [
        {
          "output_type": "stream",
          "name": "stdout",
          "text": [
            "Epoch 1/30\n",
            "189/189 - 0s - loss: 0.2452 - accuracy: 0.9450 - val_loss: 0.2422 - val_accuracy: 0.9524 - 368ms/epoch - 2ms/step\n",
            "Epoch 2/30\n",
            "189/189 - 0s - loss: 0.2449 - accuracy: 0.9450 - val_loss: 0.2418 - val_accuracy: 0.9524 - 354ms/epoch - 2ms/step\n",
            "Epoch 3/30\n",
            "189/189 - 0s - loss: 0.2447 - accuracy: 0.9450 - val_loss: 0.2423 - val_accuracy: 0.9524 - 346ms/epoch - 2ms/step\n",
            "Epoch 4/30\n",
            "189/189 - 0s - loss: 0.2445 - accuracy: 0.9460 - val_loss: 0.2413 - val_accuracy: 0.9524 - 366ms/epoch - 2ms/step\n",
            "Epoch 5/30\n",
            "189/189 - 0s - loss: 0.2441 - accuracy: 0.9450 - val_loss: 0.2410 - val_accuracy: 0.9524 - 335ms/epoch - 2ms/step\n",
            "Epoch 6/30\n",
            "189/189 - 0s - loss: 0.2437 - accuracy: 0.9450 - val_loss: 0.2406 - val_accuracy: 0.9524 - 353ms/epoch - 2ms/step\n",
            "Epoch 7/30\n",
            "189/189 - 0s - loss: 0.2436 - accuracy: 0.9460 - val_loss: 0.2404 - val_accuracy: 0.9524 - 345ms/epoch - 2ms/step\n",
            "Epoch 8/30\n",
            "189/189 - 0s - loss: 0.2432 - accuracy: 0.9450 - val_loss: 0.2404 - val_accuracy: 0.9524 - 438ms/epoch - 2ms/step\n",
            "Epoch 9/30\n",
            "189/189 - 0s - loss: 0.2430 - accuracy: 0.9450 - val_loss: 0.2397 - val_accuracy: 0.9524 - 364ms/epoch - 2ms/step\n",
            "Epoch 10/30\n",
            "189/189 - 0s - loss: 0.2427 - accuracy: 0.9460 - val_loss: 0.2387 - val_accuracy: 0.9524 - 360ms/epoch - 2ms/step\n",
            "Epoch 11/30\n",
            "189/189 - 0s - loss: 0.2424 - accuracy: 0.9450 - val_loss: 0.2388 - val_accuracy: 0.9524 - 385ms/epoch - 2ms/step\n",
            "Epoch 12/30\n",
            "189/189 - 0s - loss: 0.2422 - accuracy: 0.9450 - val_loss: 0.2379 - val_accuracy: 0.9524 - 390ms/epoch - 2ms/step\n",
            "Epoch 13/30\n",
            "189/189 - 0s - loss: 0.2419 - accuracy: 0.9450 - val_loss: 0.2378 - val_accuracy: 0.9524 - 422ms/epoch - 2ms/step\n",
            "Epoch 14/30\n",
            "189/189 - 0s - loss: 0.2417 - accuracy: 0.9471 - val_loss: 0.2374 - val_accuracy: 0.9524 - 391ms/epoch - 2ms/step\n",
            "Epoch 15/30\n",
            "189/189 - 0s - loss: 0.2415 - accuracy: 0.9444 - val_loss: 0.2370 - val_accuracy: 0.9524 - 406ms/epoch - 2ms/step\n",
            "Epoch 16/30\n",
            "189/189 - 0s - loss: 0.2414 - accuracy: 0.9455 - val_loss: 0.2370 - val_accuracy: 0.9524 - 384ms/epoch - 2ms/step\n",
            "Epoch 17/30\n",
            "189/189 - 0s - loss: 0.2410 - accuracy: 0.9476 - val_loss: 0.2364 - val_accuracy: 0.9524 - 359ms/epoch - 2ms/step\n",
            "Epoch 18/30\n",
            "189/189 - 0s - loss: 0.2407 - accuracy: 0.9476 - val_loss: 0.2361 - val_accuracy: 0.9524 - 359ms/epoch - 2ms/step\n",
            "Epoch 19/30\n",
            "189/189 - 0s - loss: 0.2405 - accuracy: 0.9450 - val_loss: 0.2358 - val_accuracy: 0.9524 - 356ms/epoch - 2ms/step\n",
            "Epoch 20/30\n",
            "189/189 - 0s - loss: 0.2403 - accuracy: 0.9487 - val_loss: 0.2353 - val_accuracy: 0.9524 - 377ms/epoch - 2ms/step\n",
            "Epoch 21/30\n",
            "189/189 - 0s - loss: 0.2400 - accuracy: 0.9450 - val_loss: 0.2364 - val_accuracy: 0.9524 - 333ms/epoch - 2ms/step\n",
            "Epoch 22/30\n",
            "189/189 - 0s - loss: 0.2399 - accuracy: 0.9481 - val_loss: 0.2348 - val_accuracy: 0.9524 - 325ms/epoch - 2ms/step\n",
            "Epoch 23/30\n",
            "189/189 - 0s - loss: 0.2395 - accuracy: 0.9450 - val_loss: 0.2348 - val_accuracy: 0.9524 - 321ms/epoch - 2ms/step\n",
            "Epoch 24/30\n",
            "189/189 - 0s - loss: 0.2394 - accuracy: 0.9450 - val_loss: 0.2350 - val_accuracy: 0.9524 - 384ms/epoch - 2ms/step\n",
            "Epoch 25/30\n",
            "189/189 - 0s - loss: 0.2392 - accuracy: 0.9481 - val_loss: 0.2343 - val_accuracy: 0.9524 - 330ms/epoch - 2ms/step\n",
            "Epoch 26/30\n",
            "189/189 - 0s - loss: 0.2389 - accuracy: 0.9503 - val_loss: 0.2337 - val_accuracy: 0.9524 - 320ms/epoch - 2ms/step\n",
            "Epoch 27/30\n",
            "189/189 - 0s - loss: 0.2387 - accuracy: 0.9450 - val_loss: 0.2337 - val_accuracy: 0.9524 - 336ms/epoch - 2ms/step\n",
            "Epoch 28/30\n",
            "189/189 - 0s - loss: 0.2384 - accuracy: 0.9450 - val_loss: 0.2338 - val_accuracy: 0.9524 - 356ms/epoch - 2ms/step\n",
            "Epoch 29/30\n",
            "189/189 - 0s - loss: 0.2384 - accuracy: 0.9460 - val_loss: 0.2332 - val_accuracy: 0.9524 - 334ms/epoch - 2ms/step\n",
            "Epoch 30/30\n",
            "189/189 - 0s - loss: 0.2380 - accuracy: 0.9471 - val_loss: 0.2331 - val_accuracy: 0.9524 - 328ms/epoch - 2ms/step\n"
          ]
        },
        {
          "output_type": "execute_result",
          "data": {
            "text/plain": [
              "<keras.callbacks.History at 0x7f88acba0990>"
            ]
          },
          "metadata": {},
          "execution_count": 42
        }
      ]
    },
    {
      "cell_type": "markdown",
      "source": [
        "## Test Data"
      ],
      "metadata": {
        "id": "XNnGbMhpFBr_"
      }
    },
    {
      "cell_type": "code",
      "source": [
        "# We want to use the model on new data and get results on its inference \n",
        "# Inference: model takes its knowledge and infers on new data \n",
        "\n",
        "test_samples = []\n",
        "test_labels = []\n",
        "\n",
        "for i in range(10):\n",
        "  random_younger = randint(13, 64)\n",
        "  test_samples.append(random_younger)\n",
        "  test_labels.append(1)\n",
        "\n",
        "  random_older = randint(65, 100)\n",
        "  test_samples.append(random_older)\n",
        "  test_labels.append(0)\n",
        "\n",
        "for i in range(200):\n",
        "  random_younger = randint(13, 64)\n",
        "  test_samples.append(random_younger)\n",
        "  test_labels.append(0)\n",
        "\n",
        "  random_older = randint(65, 100)\n",
        "  test_samples.append(random_older)\n",
        "  test_labels.append(1)"
      ],
      "metadata": {
        "id": "7fEMFFH8_dyv"
      },
      "execution_count": 43,
      "outputs": []
    },
    {
      "cell_type": "code",
      "source": [
        "test_samples = np.array(test_samples)\n",
        "test_labels = np.array(test_labels)\n",
        "test_labels, test_samples = shuffle(test_labels, test_samples)"
      ],
      "metadata": {
        "id": "zkxRgGxpE9RM"
      },
      "execution_count": 44,
      "outputs": []
    },
    {
      "cell_type": "code",
      "source": [
        "scaled_test_samples = scaler.fit_transform(test_samples.reshape(-1, 1))"
      ],
      "metadata": {
        "id": "NN_9hR6KFR8E"
      },
      "execution_count": 46,
      "outputs": []
    },
    {
      "cell_type": "markdown",
      "source": [
        "## Predict"
      ],
      "metadata": {
        "id": "bvMSJrLLFY7S"
      }
    },
    {
      "cell_type": "code",
      "source": [
        "# Getting predictions from our model using the test data\n",
        "predictions = model.predict(x=scaled_test_samples, batch_size=10, verbose=0)"
      ],
      "metadata": {
        "id": "h4ql4Xe7FXFs"
      },
      "execution_count": 49,
      "outputs": []
    },
    {
      "cell_type": "code",
      "source": [
        "predictions"
      ],
      "metadata": {
        "colab": {
          "base_uri": "https://localhost:8080/"
        },
        "id": "HIycGLbOFf3T",
        "outputId": "293d87af-c869-4aac-c701-1d1e4c80b5ba"
      },
      "execution_count": 50,
      "outputs": [
        {
          "output_type": "execute_result",
          "data": {
            "text/plain": [
              "array([[0.05723764, 0.9427624 ],\n",
              "       [0.49932995, 0.50067   ],\n",
              "       [0.05723764, 0.9427624 ],\n",
              "       [0.02524463, 0.97475535],\n",
              "       [0.9754186 , 0.02458132],\n",
              "       [0.97515374, 0.02484627],\n",
              "       [0.97515374, 0.02484627],\n",
              "       [0.975686  , 0.02431397],\n",
              "       [0.15524507, 0.84475493],\n",
              "       [0.97621197, 0.023788  ],\n",
              "       [0.17200765, 0.8279923 ],\n",
              "       [0.9006137 , 0.09938632],\n",
              "       [0.09191944, 0.9080805 ],\n",
              "       [0.05723764, 0.9427624 ],\n",
              "       [0.05280996, 0.9471901 ],\n",
              "       [0.95365363, 0.04634635],\n",
              "       [0.04490791, 0.9550921 ],\n",
              "       [0.01529592, 0.984704  ],\n",
              "       [0.975686  , 0.02431397],\n",
              "       [0.97332025, 0.02667977],\n",
              "       [0.9586655 , 0.0413345 ],\n",
              "       [0.05280996, 0.9471901 ],\n",
              "       [0.9737534 , 0.02624659],\n",
              "       [0.68607414, 0.31392586],\n",
              "       [0.03814065, 0.96185935],\n",
              "       [0.37152362, 0.6284764 ],\n",
              "       [0.12459345, 0.87540656],\n",
              "       [0.03235861, 0.9676414 ],\n",
              "       [0.01808609, 0.98191386],\n",
              "       [0.73949254, 0.26050752],\n",
              "       [0.0274281 , 0.9725719 ],\n",
              "       [0.02979466, 0.97020537],\n",
              "       [0.06715668, 0.9328434 ],\n",
              "       [0.95365363, 0.04634635],\n",
              "       [0.97317433, 0.0268257 ],\n",
              "       [0.975686  , 0.02431397],\n",
              "       [0.03513519, 0.9648648 ],\n",
              "       [0.4343359 , 0.5656641 ],\n",
              "       [0.17200765, 0.8279923 ],\n",
              "       [0.97446024, 0.02553978],\n",
              "       [0.08505099, 0.91494906],\n",
              "       [0.02524463, 0.97475535],\n",
              "       [0.97432035, 0.02567964],\n",
              "       [0.95365363, 0.04634635],\n",
              "       [0.31277278, 0.68722725],\n",
              "       [0.96686524, 0.03313474],\n",
              "       [0.1341869 , 0.86581314],\n",
              "       [0.03513519, 0.9648648 ],\n",
              "       [0.04870712, 0.9512929 ],\n",
              "       [0.12459345, 0.87540656],\n",
              "       [0.9761524 , 0.02384754],\n",
              "       [0.0726949 , 0.9273051 ],\n",
              "       [0.15524507, 0.84475493],\n",
              "       [0.17200765, 0.8279923 ],\n",
              "       [0.01529592, 0.984704  ],\n",
              "       [0.17200765, 0.8279923 ],\n",
              "       [0.976033  , 0.02396705],\n",
              "       [0.07865128, 0.9213487 ],\n",
              "       [0.91575444, 0.08424555],\n",
              "       [0.12459345, 0.87540656],\n",
              "       [0.01966289, 0.9803371 ],\n",
              "       [0.02979466, 0.97020537],\n",
              "       [0.96686524, 0.03313474],\n",
              "       [0.97446024, 0.02553978],\n",
              "       [0.09191944, 0.9080805 ],\n",
              "       [0.9734654 , 0.0265346 ],\n",
              "       [0.97515374, 0.02484627],\n",
              "       [0.01529592, 0.984704  ],\n",
              "       [0.9762714 , 0.0237286 ],\n",
              "       [0.05280996, 0.9471901 ],\n",
              "       [0.06201223, 0.9379878 ],\n",
              "       [0.09191944, 0.9080805 ],\n",
              "       [0.9760928 , 0.02390723],\n",
              "       [0.37152362, 0.6284764 ],\n",
              "       [0.96686524, 0.03313474],\n",
              "       [0.97432035, 0.02567964],\n",
              "       [0.31277278, 0.68722725],\n",
              "       [0.01966289, 0.9803371 ],\n",
              "       [0.01966289, 0.9803371 ],\n",
              "       [0.04139216, 0.9586078 ],\n",
              "       [0.04490791, 0.9550921 ],\n",
              "       [0.97555274, 0.02444729],\n",
              "       [0.948067  , 0.05193294],\n",
              "       [0.02979466, 0.97020537],\n",
              "       [0.78664744, 0.21335253],\n",
              "       [0.9349355 , 0.06506445],\n",
              "       [0.62722385, 0.37277612],\n",
              "       [0.01663359, 0.9833664 ],\n",
              "       [0.976033  , 0.02396705],\n",
              "       [0.37152362, 0.62847644],\n",
              "       [0.10716555, 0.8928344 ],\n",
              "       [0.07865128, 0.9213487 ],\n",
              "       [0.37152362, 0.6284764 ],\n",
              "       [0.04490791, 0.9550921 ],\n",
              "       [0.05280996, 0.9471901 ],\n",
              "       [0.9761524 , 0.02384754],\n",
              "       [0.5643469 , 0.4356531 ],\n",
              "       [0.9006137 , 0.09938632],\n",
              "       [0.97417974, 0.02582026],\n",
              "       [0.15524507, 0.84475493],\n",
              "       [0.9750123 , 0.02498771],\n",
              "       [0.8609051 , 0.13909489],\n",
              "       [0.0274281 , 0.9725719 ],\n",
              "       [0.9006137 , 0.09938632],\n",
              "       [0.9752839 , 0.02471606],\n",
              "       [0.9759128 , 0.02408717],\n",
              "       [0.9730276 , 0.02697242],\n",
              "       [0.05280996, 0.9471901 ],\n",
              "       [0.97473764, 0.02526228],\n",
              "       [0.5643469 , 0.4356531 ],\n",
              "       [0.05723764, 0.9427624 ],\n",
              "       [0.883099  , 0.11690093],\n",
              "       [0.97360975, 0.02639021],\n",
              "       [0.06715668, 0.9328434 ],\n",
              "       [0.9700257 , 0.02997427],\n",
              "       [0.91575444, 0.08424555],\n",
              "       [0.14439723, 0.8556028 ],\n",
              "       [0.4343359 , 0.5656641 ],\n",
              "       [0.97389627, 0.02610372],\n",
              "       [0.49932995, 0.50067   ],\n",
              "       [0.73949254, 0.26050752],\n",
              "       [0.1341869 , 0.86581314],\n",
              "       [0.15524507, 0.84475493],\n",
              "       [0.97417974, 0.02582026],\n",
              "       [0.97360975, 0.02639021],\n",
              "       [0.9750123 , 0.02498771],\n",
              "       [0.975686  , 0.02431397],\n",
              "       [0.9761524 , 0.02384754],\n",
              "       [0.9759128 , 0.02408717],\n",
              "       [0.08505099, 0.91494906],\n",
              "       [0.9586655 , 0.0413345 ],\n",
              "       [0.06715668, 0.9328434 ],\n",
              "       [0.97389627, 0.02610372],\n",
              "       [0.97417974, 0.02582026],\n",
              "       [0.97332025, 0.02667977],\n",
              "       [0.08505099, 0.91494906],\n",
              "       [0.04490791, 0.9550921 ],\n",
              "       [0.5643469 , 0.4356531 ],\n",
              "       [0.04870712, 0.9512929 ],\n",
              "       [0.96686524, 0.03313474],\n",
              "       [0.02524463, 0.97475535],\n",
              "       [0.97332025, 0.02667977],\n",
              "       [0.02323083, 0.9767692 ],\n",
              "       [0.5643469 , 0.4356531 ],\n",
              "       [0.07865128, 0.9213487 ],\n",
              "       [0.21245421, 0.78754574],\n",
              "       [0.9740384 , 0.02596161],\n",
              "       [0.97360975, 0.02639021],\n",
              "       [0.10716555, 0.8928344 ],\n",
              "       [0.97515374, 0.02484627],\n",
              "       [0.975686  , 0.02431397],\n",
              "       [0.01529592, 0.984704  ],\n",
              "       [0.04139216, 0.9586078 ],\n",
              "       [0.9758186 , 0.02418136],\n",
              "       [0.97360975, 0.02639021],\n",
              "       [0.25947645, 0.7405236 ],\n",
              "       [0.97514844, 0.02485153],\n",
              "       [0.21245421, 0.78754574],\n",
              "       [0.976033  , 0.02396705],\n",
              "       [0.15524507, 0.84475493],\n",
              "       [0.97609305, 0.02390693],\n",
              "       [0.25947645, 0.7405236 ],\n",
              "       [0.08505099, 0.91494906],\n",
              "       [0.04870712, 0.9512929 ],\n",
              "       [0.97473764, 0.02526228],\n",
              "       [0.9006137 , 0.09938632],\n",
              "       [0.05280996, 0.9471901 ],\n",
              "       [0.9754186 , 0.02458132],\n",
              "       [0.9586655 , 0.0413345 ],\n",
              "       [0.07865128, 0.9213487 ],\n",
              "       [0.01529592, 0.984704  ],\n",
              "       [0.09191944, 0.9080805 ],\n",
              "       [0.02137415, 0.9786259 ],\n",
              "       [0.9759128 , 0.02408717],\n",
              "       [0.9631006 , 0.0368994 ],\n",
              "       [0.02524463, 0.97475535],\n",
              "       [0.883099  , 0.11690093],\n",
              "       [0.15524507, 0.84475493],\n",
              "       [0.9750123 , 0.02498771],\n",
              "       [0.06715668, 0.9328434 ],\n",
              "       [0.9758186 , 0.02418136],\n",
              "       [0.62722385, 0.37277612],\n",
              "       [0.08505099, 0.91494906],\n",
              "       [0.9760928 , 0.02390723],\n",
              "       [0.9734654 , 0.0265346 ],\n",
              "       [0.4343359 , 0.5656641 ],\n",
              "       [0.97555274, 0.02444729],\n",
              "       [0.03513519, 0.9648648 ],\n",
              "       [0.01529592, 0.984704  ],\n",
              "       [0.14439723, 0.8556028 ],\n",
              "       [0.04139216, 0.9586078 ],\n",
              "       [0.02979466, 0.97020537],\n",
              "       [0.97389627, 0.02610372],\n",
              "       [0.01663359, 0.9833664 ],\n",
              "       [0.9737534 , 0.02624659],\n",
              "       [0.21245421, 0.78754574],\n",
              "       [0.4343359 , 0.5656641 ],\n",
              "       [0.9750123 , 0.02498771],\n",
              "       [0.62722385, 0.37277612],\n",
              "       [0.49932995, 0.50067   ],\n",
              "       [0.78664744, 0.21335253],\n",
              "       [0.02323083, 0.9767692 ],\n",
              "       [0.0726949 , 0.9273051 ],\n",
              "       [0.06201223, 0.9379878 ],\n",
              "       [0.05723764, 0.9427624 ],\n",
              "       [0.11559426, 0.88440573],\n",
              "       [0.02323083, 0.9767692 ],\n",
              "       [0.97317433, 0.0268257 ],\n",
              "       [0.4343359 , 0.5656641 ],\n",
              "       [0.976033  , 0.02396705],\n",
              "       [0.49932995, 0.50067   ],\n",
              "       [0.05723764, 0.9427624 ],\n",
              "       [0.1341869 , 0.86581314],\n",
              "       [0.9748754 , 0.02512463],\n",
              "       [0.09191944, 0.9080805 ],\n",
              "       [0.9586655 , 0.0413345 ],\n",
              "       [0.976033  , 0.02396705],\n",
              "       [0.91575444, 0.08424555],\n",
              "       [0.05280996, 0.9471901 ],\n",
              "       [0.31277278, 0.68722725],\n",
              "       [0.97446024, 0.02553978],\n",
              "       [0.883099  , 0.11690093],\n",
              "       [0.06715668, 0.9328434 ],\n",
              "       [0.5643469 , 0.4356531 ],\n",
              "       [0.02979466, 0.97020537],\n",
              "       [0.97389627, 0.02610372],\n",
              "       [0.97389627, 0.02610372],\n",
              "       [0.03235861, 0.9676414 ],\n",
              "       [0.9006137 , 0.09938632],\n",
              "       [0.10716555, 0.8928344 ],\n",
              "       [0.9586655 , 0.0413345 ],\n",
              "       [0.92726475, 0.07273525],\n",
              "       [0.96686524, 0.03313474],\n",
              "       [0.97515374, 0.02484627],\n",
              "       [0.07865128, 0.9213487 ],\n",
              "       [0.04870712, 0.9512929 ],\n",
              "       [0.12459345, 0.87540656],\n",
              "       [0.97417974, 0.02582026],\n",
              "       [0.9750123 , 0.02498771],\n",
              "       [0.0274281 , 0.9725719 ],\n",
              "       [0.1341869 , 0.86581314],\n",
              "       [0.07865128, 0.9213487 ],\n",
              "       [0.9418481 , 0.0581519 ],\n",
              "       [0.96686524, 0.03313474],\n",
              "       [0.25947645, 0.7405236 ],\n",
              "       [0.14439723, 0.8556028 ],\n",
              "       [0.97360975, 0.02639021],\n",
              "       [0.91575444, 0.08424555],\n",
              "       [0.9741785 , 0.02582154],\n",
              "       [0.9741785 , 0.02582154],\n",
              "       [0.97473764, 0.02526228],\n",
              "       [0.01808609, 0.98191386],\n",
              "       [0.97317433, 0.0268257 ],\n",
              "       [0.97317433, 0.0268257 ],\n",
              "       [0.97432035, 0.02567964],\n",
              "       [0.5643469 , 0.4356531 ],\n",
              "       [0.97473764, 0.02526228],\n",
              "       [0.49932995, 0.50067   ],\n",
              "       [0.11559426, 0.88440573],\n",
              "       [0.97514844, 0.02485153],\n",
              "       [0.02524463, 0.97475535],\n",
              "       [0.97432035, 0.02567964],\n",
              "       [0.62722385, 0.37277612],\n",
              "       [0.9740384 , 0.02596161],\n",
              "       [0.9752839 , 0.02471606],\n",
              "       [0.97360975, 0.02639021],\n",
              "       [0.07865128, 0.9213487 ],\n",
              "       [0.14439723, 0.8556028 ],\n",
              "       [0.97514844, 0.02485153],\n",
              "       [0.73949254, 0.26050752],\n",
              "       [0.97317433, 0.0268257 ],\n",
              "       [0.9006137 , 0.09938632],\n",
              "       [0.05280996, 0.9471901 ],\n",
              "       [0.1341869 , 0.86581314],\n",
              "       [0.9730276 , 0.02697242],\n",
              "       [0.01808609, 0.98191386],\n",
              "       [0.97389627, 0.02610372],\n",
              "       [0.05723764, 0.9427624 ],\n",
              "       [0.4343359 , 0.5656641 ],\n",
              "       [0.1341869 , 0.86581314],\n",
              "       [0.97417974, 0.02582026],\n",
              "       [0.02524463, 0.97475535],\n",
              "       [0.02979466, 0.97020537],\n",
              "       [0.03513519, 0.9648648 ],\n",
              "       [0.9762714 , 0.0237286 ],\n",
              "       [0.976033  , 0.02396705],\n",
              "       [0.0274281 , 0.9725719 ],\n",
              "       [0.9759128 , 0.02408717],\n",
              "       [0.03235861, 0.9676414 ],\n",
              "       [0.883099  , 0.11690093],\n",
              "       [0.03814065, 0.96185935],\n",
              "       [0.06201223, 0.9379878 ],\n",
              "       [0.49932995, 0.50067   ],\n",
              "       [0.49932995, 0.50067   ],\n",
              "       [0.06201223, 0.9379878 ],\n",
              "       [0.06201223, 0.9379878 ],\n",
              "       [0.37152362, 0.6284764 ],\n",
              "       [0.01529592, 0.984704  ],\n",
              "       [0.14439723, 0.8556028 ],\n",
              "       [0.05280996, 0.9471901 ],\n",
              "       [0.68607414, 0.31392586],\n",
              "       [0.01529592, 0.984704  ],\n",
              "       [0.01966289, 0.9803371 ],\n",
              "       [0.73949254, 0.26050752],\n",
              "       [0.9745993 , 0.02540066],\n",
              "       [0.78664744, 0.21335253],\n",
              "       [0.8609051 , 0.13909489],\n",
              "       [0.0726949 , 0.9273051 ],\n",
              "       [0.01529592, 0.984704  ],\n",
              "       [0.948067  , 0.05193294],\n",
              "       [0.02979466, 0.97020537],\n",
              "       [0.97621197, 0.023788  ],\n",
              "       [0.97389627, 0.02610372],\n",
              "       [0.5643469 , 0.4356531 ],\n",
              "       [0.4343359 , 0.5656641 ],\n",
              "       [0.09928238, 0.90071756],\n",
              "       [0.5643469 , 0.4356531 ],\n",
              "       [0.9734654 , 0.0265346 ],\n",
              "       [0.9730276 , 0.02697242],\n",
              "       [0.9759128 , 0.02408717],\n",
              "       [0.0726949 , 0.9273051 ],\n",
              "       [0.06201223, 0.9379878 ],\n",
              "       [0.03513519, 0.9648648 ],\n",
              "       [0.9758186 , 0.02418136],\n",
              "       [0.09928238, 0.90071756],\n",
              "       [0.10716555, 0.8928344 ],\n",
              "       [0.09928238, 0.90071756],\n",
              "       [0.9740384 , 0.02596161],\n",
              "       [0.9754186 , 0.02458132],\n",
              "       [0.62722385, 0.37277612],\n",
              "       [0.96686524, 0.03313474],\n",
              "       [0.9754186 , 0.02458132],\n",
              "       [0.92726475, 0.07273525],\n",
              "       [0.9737534 , 0.02624659],\n",
              "       [0.09928238, 0.90071756],\n",
              "       [0.04139216, 0.9586078 ],\n",
              "       [0.01966289, 0.9803371 ],\n",
              "       [0.21245421, 0.78754574],\n",
              "       [0.05723764, 0.9427624 ],\n",
              "       [0.976033  , 0.02396705],\n",
              "       [0.06201223, 0.9379878 ],\n",
              "       [0.9760928 , 0.02390723],\n",
              "       [0.9761524 , 0.02384754],\n",
              "       [0.0726949 , 0.9273051 ],\n",
              "       [0.1341869 , 0.86581314],\n",
              "       [0.02137415, 0.9786259 ],\n",
              "       [0.03513519, 0.9648648 ],\n",
              "       [0.73949254, 0.26050752],\n",
              "       [0.97360975, 0.02639021],\n",
              "       [0.07865128, 0.9213487 ],\n",
              "       [0.97432035, 0.02567964],\n",
              "       [0.948067  , 0.05193294],\n",
              "       [0.73949254, 0.26050752],\n",
              "       [0.04139216, 0.9586078 ],\n",
              "       [0.31277278, 0.68722725],\n",
              "       [0.01529592, 0.984704  ],\n",
              "       [0.9760928 , 0.02390723],\n",
              "       [0.9349355 , 0.06506445],\n",
              "       [0.02323083, 0.9767692 ],\n",
              "       [0.31277278, 0.68722725],\n",
              "       [0.37152362, 0.6284764 ],\n",
              "       [0.9586655 , 0.0413345 ],\n",
              "       [0.06715668, 0.9328434 ],\n",
              "       [0.31277278, 0.68722725],\n",
              "       [0.9754186 , 0.02458132],\n",
              "       [0.9737534 , 0.02624659],\n",
              "       [0.62722385, 0.37277612],\n",
              "       [0.02524463, 0.97475535],\n",
              "       [0.976033  , 0.02396705],\n",
              "       [0.883099  , 0.11690093],\n",
              "       [0.4343359 , 0.5656641 ],\n",
              "       [0.0274281 , 0.9725719 ],\n",
              "       [0.07865128, 0.9213487 ],\n",
              "       [0.97621197, 0.023788  ],\n",
              "       [0.02137415, 0.9786259 ],\n",
              "       [0.04139216, 0.9586078 ],\n",
              "       [0.9006137 , 0.09938632],\n",
              "       [0.10716555, 0.8928344 ],\n",
              "       [0.10716555, 0.8928344 ],\n",
              "       [0.01808609, 0.98191386],\n",
              "       [0.97360975, 0.02639021],\n",
              "       [0.11559426, 0.88440573],\n",
              "       [0.02323083, 0.9767692 ],\n",
              "       [0.9730276 , 0.02697242],\n",
              "       [0.07865128, 0.9213487 ],\n",
              "       [0.97317433, 0.0268257 ],\n",
              "       [0.97332025, 0.02667977],\n",
              "       [0.01529592, 0.984704  ],\n",
              "       [0.01966289, 0.9803371 ],\n",
              "       [0.97432035, 0.02567964],\n",
              "       [0.08505099, 0.91494906],\n",
              "       [0.08505099, 0.91494906],\n",
              "       [0.78664744, 0.21335253],\n",
              "       [0.9758186 , 0.02418136],\n",
              "       [0.01663359, 0.9833664 ],\n",
              "       [0.9741785 , 0.02582154],\n",
              "       [0.04870712, 0.9512929 ],\n",
              "       [0.9762714 , 0.0237286 ],\n",
              "       [0.01966289, 0.9803371 ],\n",
              "       [0.9006137 , 0.09938632],\n",
              "       [0.07865128, 0.9213487 ],\n",
              "       [0.09928238, 0.90071756],\n",
              "       [0.9752839 , 0.02471606],\n",
              "       [0.14439723, 0.8556028 ],\n",
              "       [0.14439723, 0.8556028 ],\n",
              "       [0.9631006 , 0.0368994 ],\n",
              "       [0.9006137 , 0.09938632],\n",
              "       [0.9722695 , 0.02773054],\n",
              "       [0.12459345, 0.87540656],\n",
              "       [0.01808609, 0.98191386],\n",
              "       [0.9741785 , 0.02582154],\n",
              "       [0.97432035, 0.02567964],\n",
              "       [0.9752839 , 0.02471606],\n",
              "       [0.97446024, 0.02553978],\n",
              "       [0.97515374, 0.02484627],\n",
              "       [0.25947645, 0.7405236 ],\n",
              "       [0.05723764, 0.9427624 ],\n",
              "       [0.9752839 , 0.02471606],\n",
              "       [0.01663359, 0.9833664 ],\n",
              "       [0.9748754 , 0.02512463]], dtype=float32)"
            ]
          },
          "metadata": {},
          "execution_count": 50
        }
      ]
    },
    {
      "cell_type": "code",
      "source": [
        "rounded_predictions = np.argmax(predictions, axis=1)"
      ],
      "metadata": {
        "id": "J8Ivk9CNFhiQ"
      },
      "execution_count": 51,
      "outputs": []
    },
    {
      "cell_type": "code",
      "source": [
        "rounded_predictions"
      ],
      "metadata": {
        "colab": {
          "base_uri": "https://localhost:8080/"
        },
        "id": "QaINBBBIFvpL",
        "outputId": "d344f8d1-01c1-4861-cb2c-21fbd2d5d407"
      },
      "execution_count": 52,
      "outputs": [
        {
          "output_type": "execute_result",
          "data": {
            "text/plain": [
              "array([1, 1, 1, 1, 0, 0, 0, 0, 1, 0, 1, 0, 1, 1, 1, 0, 1, 1, 0, 0, 0, 1,\n",
              "       0, 0, 1, 1, 1, 1, 1, 0, 1, 1, 1, 0, 0, 0, 1, 1, 1, 0, 1, 1, 0, 0,\n",
              "       1, 0, 1, 1, 1, 1, 0, 1, 1, 1, 1, 1, 0, 1, 0, 1, 1, 1, 0, 0, 1, 0,\n",
              "       0, 1, 0, 1, 1, 1, 0, 1, 0, 0, 1, 1, 1, 1, 1, 0, 0, 1, 0, 0, 0, 1,\n",
              "       0, 1, 1, 1, 1, 1, 1, 0, 0, 0, 0, 1, 0, 0, 1, 0, 0, 0, 0, 1, 0, 0,\n",
              "       1, 0, 0, 1, 0, 0, 1, 1, 0, 1, 0, 1, 1, 0, 0, 0, 0, 0, 0, 1, 0, 1,\n",
              "       0, 0, 0, 1, 1, 0, 1, 0, 1, 0, 1, 0, 1, 1, 0, 0, 1, 0, 0, 1, 1, 0,\n",
              "       0, 1, 0, 1, 0, 1, 0, 1, 1, 1, 0, 0, 1, 0, 0, 1, 1, 1, 1, 0, 0, 1,\n",
              "       0, 1, 0, 1, 0, 0, 1, 0, 0, 1, 0, 1, 1, 1, 1, 1, 0, 1, 0, 1, 1, 0,\n",
              "       0, 1, 0, 1, 1, 1, 1, 1, 1, 0, 1, 0, 1, 1, 1, 0, 1, 0, 0, 0, 1, 1,\n",
              "       0, 0, 1, 0, 1, 0, 0, 1, 0, 1, 0, 0, 0, 0, 1, 1, 1, 0, 0, 1, 1, 1,\n",
              "       0, 0, 1, 1, 0, 0, 0, 0, 0, 1, 0, 0, 0, 0, 0, 1, 1, 0, 1, 0, 0, 0,\n",
              "       0, 0, 1, 1, 0, 0, 0, 0, 1, 1, 0, 1, 0, 1, 1, 1, 0, 1, 1, 1, 0, 0,\n",
              "       1, 0, 1, 0, 1, 1, 1, 1, 1, 1, 1, 1, 1, 1, 0, 1, 1, 0, 0, 0, 0, 1,\n",
              "       1, 0, 1, 0, 0, 0, 1, 1, 0, 0, 0, 0, 1, 1, 1, 0, 1, 1, 1, 0, 0, 0,\n",
              "       0, 0, 0, 0, 1, 1, 1, 1, 1, 0, 1, 0, 0, 1, 1, 1, 1, 0, 0, 1, 0, 0,\n",
              "       0, 1, 1, 1, 0, 0, 1, 1, 1, 0, 1, 1, 0, 0, 0, 1, 0, 0, 1, 1, 1, 0,\n",
              "       1, 1, 0, 1, 1, 1, 0, 1, 1, 0, 1, 0, 0, 1, 1, 0, 1, 1, 0, 0, 1, 0,\n",
              "       1, 0, 1, 0, 1, 1, 0, 1, 1, 0, 0, 0, 1, 1, 0, 0, 0, 0, 0, 1, 1, 0,\n",
              "       1, 0])"
            ]
          },
          "metadata": {},
          "execution_count": 52
        }
      ]
    },
    {
      "cell_type": "markdown",
      "source": [
        "## Confusion Matrix\n",
        "- visually observe the performance on test data"
      ],
      "metadata": {
        "id": "C8W7PcvmGFKJ"
      }
    },
    {
      "cell_type": "code",
      "source": [
        "%matplotlib inline \n",
        "from sklearn.metrics import confusion_matrix\n",
        "import itertools\n",
        "import matplotlib.pyplot as plt"
      ],
      "metadata": {
        "id": "U-lWEc49FyfO"
      },
      "execution_count": 59,
      "outputs": []
    },
    {
      "cell_type": "code",
      "source": [
        "cm = confusion_matrix(y_true=test_labels, y_pred=rounded_predictions)"
      ],
      "metadata": {
        "id": "YlVPtYt6INHg"
      },
      "execution_count": 60,
      "outputs": []
    },
    {
      "cell_type": "code",
      "source": [
        "def plot_confusion_matrix(cm, classes, normalize=False, title='Confusion Matrix', cmap=plt.cm.Blues):\n",
        "    plt.imshow(cm, interpolation='nearest', cmap=cmap)\n",
        "    plt.title(title)\n",
        "    plt.colorbar()\n",
        "    tick_marks = np.arange(len(classes))\n",
        "    plt.xticks(tick_marks, classes, rotation=45)\n",
        "    plt.yticks(tick_marks, classes)\n",
        "\n",
        "    if normalize: \n",
        "      cm = cm.astype('float') / cm.sum(axis=1)[:, np.newaxis]\n",
        "      print('Normalised confusion matrix')\n",
        "    else: \n",
        "      print('Confusion Matrix, without Normalisation')\n",
        "\n",
        "    print(cm)\n",
        "\n",
        "    thresh = cm.max() / 2\n",
        "    for i, j in itertools.product(range(cm.shape[0]), range(cm.shape[1])):\n",
        "      plt.text(j ,i, cm[i, j], horizontalalignment=\"center\", color=\"white\" if cm[i, j] > thresh else \"black\")\n",
        "\n",
        "      plt.tight_layout()\n",
        "      plt.ylabel('True label')\n",
        "      plt.xlabel('Predicted label')"
      ],
      "metadata": {
        "id": "hbbHA0EFIWmu"
      },
      "execution_count": 61,
      "outputs": []
    },
    {
      "cell_type": "code",
      "source": [
        "cm_plot_labels = ['no_side_effects', 'had_side_effects']\n",
        "plot_confusion_matrix(cm=cm, classes=cm_plot_labels, title = 'Confusion Matrix')"
      ],
      "metadata": {
        "colab": {
          "base_uri": "https://localhost:8080/",
          "height": 350
        },
        "id": "obOTpTn8NCnL",
        "outputId": "ee63dab1-55d9-4bb7-bebc-8b0b05adf812"
      },
      "execution_count": 62,
      "outputs": [
        {
          "output_type": "stream",
          "name": "stdout",
          "text": [
            "Confusion Matrix, without Normalisation\n",
            "[[193  17]\n",
            " [ 10 200]]\n"
          ]
        },
        {
          "output_type": "display_data",
          "data": {
            "text/plain": [
              "<Figure size 432x288 with 2 Axes>"
            ],
            "image/png": "[encoded data removed]"
          },
          "metadata": {
            "needs_background": "light"
          }
        }
      ]
    },
    {
      "cell_type": "markdown",
      "source": [
        "## Saving a Model - to File"
      ],
      "metadata": {
        "id": "tJSik-TCRft4"
      }
    },
    {
      "cell_type": "code",
      "source": [
        "import os.path "
      ],
      "metadata": {
        "id": "ONEqKJZVNN97"
      },
      "execution_count": 63,
      "outputs": []
    },
    {
      "cell_type": "code",
      "source": [
        "if os.path.isfile('models/medical_trial_model.h5') is False:\n",
        "  model.save('models/medical_trial_model.h5')"
      ],
      "metadata": {
        "id": "BsJ-Ww2RRjKY"
      },
      "execution_count": 64,
      "outputs": []
    },
    {
      "cell_type": "markdown",
      "source": [
        "This save functions saves: \n",
        "- The architecture of the model, allowing to re-create the model \n",
        "- The weights of the model\n",
        "- The training configuration (loss, optimizer)\n",
        "- The state of the optimizerm, allowing to resume training exactly where you left off\n"
      ],
      "metadata": {
        "id": "H2DvUdNRRxNT"
      }
    },
    {
      "cell_type": "code",
      "source": [
        "from tensorflow.keras.models import load_model\n",
        "new_model = load_model('models/medical_trial_model.h5')"
      ],
      "metadata": {
        "id": "phHZLA-JRvvL"
      },
      "execution_count": 65,
      "outputs": []
    },
    {
      "cell_type": "code",
      "source": [
        "new_model.summary()"
      ],
      "metadata": {
        "colab": {
          "base_uri": "https://localhost:8080/"
        },
        "id": "w18tsRjXSLXX",
        "outputId": "b95ce149-b98e-40dc-dae1-07cc21e09e9a"
      },
      "execution_count": 66,
      "outputs": [
        {
          "output_type": "stream",
          "name": "stdout",
          "text": [
            "Model: \"sequential_3\"\n",
            "_________________________________________________________________\n",
            " Layer (type)                Output Shape              Param #   \n",
            "=================================================================\n",
            " dense_9 (Dense)             (None, 16)                32        \n",
            "                                                                 \n",
            " dense_10 (Dense)            (None, 32)                544       \n",
            "                                                                 \n",
            " dense_11 (Dense)            (None, 2)                 66        \n",
            "                                                                 \n",
            "=================================================================\n",
            "Total params: 642\n",
            "Trainable params: 642\n",
            "Non-trainable params: 0\n",
            "_________________________________________________________________\n"
          ]
        }
      ]
    },
    {
      "cell_type": "code",
      "source": [
        "new_model.get_weights()"
      ],
      "metadata": {
        "colab": {
          "base_uri": "https://localhost:8080/"
        },
        "id": "dR8uQABDSNEU",
        "outputId": "e0893b56-5738-45ec-8c30-ec96802b6e4d"
      },
      "execution_count": 67,
      "outputs": [
        {
          "output_type": "execute_result",
          "data": {
            "text/plain": [
              "[array([[-0.24487692,  0.36332896, -0.28076738, -0.2676002 ,  0.325522  ,\n",
              "         -0.34496284, -0.07076126,  0.75967413, -0.38358724,  0.33244798,\n",
              "          0.3829119 ,  0.29641068, -0.29076147, -0.27953494,  0.62667775,\n",
              "          0.7305123 ]], dtype=float32),\n",
              " array([ 0.        , -0.16746372,  0.        ,  0.        ,  0.10039227,\n",
              "         0.        ,  0.        ,  0.02779146,  0.        , -0.16651171,\n",
              "        -0.17840725, -0.15021846,  0.        ,  0.        , -0.21687637,\n",
              "        -0.23306507], dtype=float32),\n",
              " array([[-1.29390061e-02, -6.60669804e-03, -2.65384287e-01,\n",
              "         -1.65601283e-01,  1.34719282e-01,  2.13515431e-01,\n",
              "         -7.58885145e-02,  2.31455475e-01,  2.77431816e-01,\n",
              "          2.17070431e-01,  2.76889533e-01, -4.18567657e-03,\n",
              "         -2.35644460e-01, -5.81462979e-02, -1.91253126e-02,\n",
              "          1.33863270e-01,  1.75273627e-01,  1.53464377e-02,\n",
              "         -1.63980827e-01,  7.82489777e-04,  1.27944171e-01,\n",
              "         -2.81157136e-01,  2.45260030e-01, -3.22646171e-01,\n",
              "         -1.93027079e-01, -2.74681032e-01, -2.13770837e-01,\n",
              "         -2.86823452e-01,  3.15555781e-01,  3.43231887e-01,\n",
              "          9.23323631e-02,  2.38161117e-01],\n",
              "        [-3.58247072e-01, -1.02774322e-01,  3.88941318e-01,\n",
              "          2.78734833e-01,  1.21171452e-01, -4.21128683e-02,\n",
              "         -5.05874828e-02,  8.43857378e-02, -2.92915016e-01,\n",
              "          2.10924298e-01,  3.21711183e-01, -1.27750665e-01,\n",
              "         -1.69207841e-01,  5.69233179e-01,  2.74486214e-01,\n",
              "         -2.66995907e-01, -5.63074090e-02, -6.12044871e-01,\n",
              "          1.53543368e-01, -4.00732517e-01, -5.36318403e-03,\n",
              "         -1.89129263e-01, -2.37961346e-03, -1.54952720e-01,\n",
              "          2.38680482e-01, -7.26812661e-01, -3.51035506e-01,\n",
              "          2.09713519e-01,  4.40217406e-02,  3.39506477e-01,\n",
              "         -4.12221372e-01, -3.82390618e-02],\n",
              "        [-8.13433230e-02, -3.99180353e-02, -6.46938980e-02,\n",
              "          5.27982116e-02, -3.49090964e-01,  6.46063983e-02,\n",
              "         -3.06513458e-01, -1.40352041e-01,  4.90886867e-02,\n",
              "         -1.10875666e-02, -3.37897778e-01,  9.74113941e-02,\n",
              "         -1.32195696e-01, -1.78518534e-01, -6.82515800e-02,\n",
              "         -3.22736710e-01, -2.84182608e-01,  1.73318475e-01,\n",
              "          2.35660285e-01, -1.50576949e-01,  3.61577868e-02,\n",
              "         -2.64268577e-01,  1.55634850e-01,  3.29526812e-01,\n",
              "          2.29196578e-01, -3.20586294e-01,  4.13595438e-02,\n",
              "          3.38607460e-01, -1.37849748e-02, -1.83935165e-01,\n",
              "         -1.31580770e-01,  3.11798155e-02],\n",
              "        [ 6.73631430e-02, -1.63118079e-01, -1.95786938e-01,\n",
              "          2.17325002e-01, -1.35419250e-01,  2.97158808e-01,\n",
              "         -2.94162840e-01, -1.84744895e-02,  6.59292042e-02,\n",
              "          4.75621223e-02, -2.33816803e-01, -2.29400665e-01,\n",
              "          3.57852876e-02,  2.13654011e-01,  1.38318032e-01,\n",
              "         -2.66463339e-01,  3.31332058e-01, -2.58788049e-01,\n",
              "          2.71904916e-01,  5.91728985e-02,  3.36605400e-01,\n",
              "          1.55060858e-01,  1.83043778e-02, -3.40300798e-03,\n",
              "          2.02960402e-01, -4.22501862e-02,  1.35097176e-01,\n",
              "          1.30035073e-01, -2.39437759e-01, -3.31364512e-01,\n",
              "         -1.68569520e-01,  2.39481837e-01],\n",
              "        [ 1.67997628e-01, -2.95859814e-01, -3.34857814e-02,\n",
              "         -7.43324459e-02,  2.02742875e-01, -2.30731949e-01,\n",
              "          1.82287931e-01,  2.29629248e-01,  3.33601326e-01,\n",
              "         -3.18051070e-01,  1.33096710e-01,  2.22677037e-01,\n",
              "         -1.35026067e-01,  6.04369640e-02, -1.61810771e-01,\n",
              "         -1.33200809e-01, -2.92265683e-01,  7.77523220e-02,\n",
              "          3.76946032e-01,  2.91980535e-01, -1.40912235e-01,\n",
              "         -3.00390601e-01, -2.60223269e-01, -1.11568570e-02,\n",
              "          2.51857758e-01,  1.64978117e-01, -2.48881638e-01,\n",
              "          1.23356663e-01,  5.33285327e-02, -1.60593793e-01,\n",
              "         -2.42150620e-01, -2.04296470e-01],\n",
              "        [-2.37004697e-01,  2.17833430e-01,  2.60045975e-01,\n",
              "         -8.49733651e-02, -2.86972761e-01,  2.66500503e-01,\n",
              "         -1.11918345e-01,  1.09250546e-02,  6.77551031e-02,\n",
              "          1.73836261e-01, -8.48762393e-02,  1.37913764e-01,\n",
              "         -1.21765450e-01,  2.86144316e-02, -6.12300634e-03,\n",
              "         -7.61859119e-02, -8.97101462e-02,  1.05828047e-01,\n",
              "         -2.23737136e-01, -2.56694615e-01,  3.19426268e-01,\n",
              "          1.22710198e-01,  1.35335922e-02,  1.17805004e-01,\n",
              "          9.38434899e-02, -8.63000453e-02,  1.97118193e-01,\n",
              "          1.14198744e-01, -8.92703831e-02, -2.73809612e-01,\n",
              "          2.59102881e-02,  5.34993410e-02],\n",
              "        [-2.05900073e-01,  3.46409351e-01,  2.49186456e-02,\n",
              "         -1.93908885e-01,  1.73330575e-01, -4.76626158e-02,\n",
              "          1.24445975e-01,  1.11931235e-01, -7.93839395e-02,\n",
              "          3.52074534e-01, -2.33656734e-01,  1.36649281e-01,\n",
              "          2.45007187e-01,  2.17697591e-01, -2.15665087e-01,\n",
              "         -1.75172076e-01, -2.42197454e-01, -3.45042348e-01,\n",
              "          1.69268757e-01, -1.23858377e-01,  2.21842557e-01,\n",
              "          2.40348488e-01, -2.52569377e-01,  1.30214721e-01,\n",
              "          1.94627732e-01, -2.16206580e-01,  2.95257658e-01,\n",
              "          3.03365856e-01,  3.16039413e-01, -2.74467468e-03,\n",
              "         -7.00022876e-02, -1.50909990e-01],\n",
              "        [-1.06028326e-01, -3.39927226e-01,  3.04847777e-01,\n",
              "         -3.06560159e-01,  1.80400878e-01,  1.43611759e-01,\n",
              "          1.11498512e-01, -3.76273155e-01, -1.23353332e-01,\n",
              "         -2.89861560e-01, -3.21787558e-02,  1.60991903e-02,\n",
              "          1.99227974e-01,  4.76730794e-01, -1.43828452e-01,\n",
              "         -3.16481680e-01,  9.23594832e-02,  2.30539627e-02,\n",
              "          4.12290007e-01, -2.11148381e-01, -2.17505861e-02,\n",
              "          1.05831176e-01,  3.02262038e-01, -1.58760354e-01,\n",
              "          1.45187631e-01,  5.44504710e-02,  9.10328329e-02,\n",
              "          9.72032398e-02, -3.37489069e-01,  4.85171467e-01,\n",
              "         -1.16889307e-03, -2.50470221e-01],\n",
              "        [ 3.31408232e-01, -1.25645489e-01,  2.03221649e-01,\n",
              "         -1.72157228e-01,  2.86847681e-01,  2.49737412e-01,\n",
              "         -2.46658772e-01, -2.76894271e-01,  1.77323252e-01,\n",
              "         -3.05592716e-01,  1.04378790e-01,  6.99666440e-02,\n",
              "          1.75329059e-01,  2.29589790e-01,  3.50635201e-01,\n",
              "          3.39345783e-01, -2.03276351e-01, -3.00342828e-01,\n",
              "         -1.37197599e-01, -1.84507102e-01, -2.54840672e-01,\n",
              "          3.24206561e-01,  2.44994372e-01, -9.07005370e-02,\n",
              "         -1.84353933e-01, -1.16416812e-03, -3.01865935e-01,\n",
              "         -8.64624083e-02,  1.34497434e-01,  2.57885426e-01,\n",
              "         -7.65109360e-02,  5.12992144e-02],\n",
              "        [-5.96405506e-01,  1.89260989e-01,  3.96419257e-01,\n",
              "         -1.37835741e-03,  3.76665741e-01,  3.02455544e-01,\n",
              "         -5.84217668e-01, -2.00016022e-01, -7.97018528e-01,\n",
              "         -2.87729532e-01, -2.58568466e-01, -2.50430226e-01,\n",
              "         -7.43331432e-01,  7.42496371e-01,  2.68245310e-01,\n",
              "          2.62989074e-01, -4.85181123e-01, -6.19660199e-01,\n",
              "          2.43972868e-01,  6.64894804e-02, -7.12626055e-02,\n",
              "          1.50596410e-01,  9.87545401e-02,  2.59040296e-02,\n",
              "          2.59202302e-01, -8.18323314e-01, -3.37324262e-01,\n",
              "          4.74403590e-01, -6.99326023e-03,  1.88740537e-01,\n",
              "         -7.19097435e-01,  2.01666683e-01],\n",
              "        [-5.99377155e-01,  2.78962582e-01,  6.06806159e-01,\n",
              "         -5.16653061e-03,  3.91123056e-01, -2.29454264e-01,\n",
              "         -4.26316857e-01,  1.30598247e-01, -3.05822909e-01,\n",
              "         -3.43030334e-01, -3.43273759e-01, -3.53028923e-01,\n",
              "         -5.27765632e-01,  4.15727854e-01,  2.60587186e-01,\n",
              "         -1.06277153e-01, -6.04742944e-01, -4.81385410e-01,\n",
              "          3.30134839e-01, -4.13513146e-02, -6.65820777e-01,\n",
              "         -1.32761046e-01, -2.86999941e-01, -2.76811659e-01,\n",
              "          2.09329814e-01, -4.41658229e-01, -8.73638466e-02,\n",
              "          4.16399509e-01,  1.53428525e-01,  1.99879825e-01,\n",
              "         -1.99417442e-01, -1.35624588e-01],\n",
              "        [-6.74971759e-01,  3.10892671e-01,  4.03963834e-01,\n",
              "          2.69572139e-02,  4.32083577e-01,  2.98677325e-01,\n",
              "         -7.13070691e-01,  1.81479797e-01, -6.21934474e-01,\n",
              "         -3.10427725e-01,  3.30722421e-01, -6.96282566e-01,\n",
              "         -6.74145043e-01,  7.66171217e-01, -1.50852501e-01,\n",
              "          3.33027512e-01, -7.79539466e-01, -5.98369539e-01,\n",
              "          4.35693040e-02, -4.24703062e-02, -6.43305242e-01,\n",
              "          8.61104727e-02,  1.84057355e-01, -1.39429942e-01,\n",
              "          7.64310285e-02, -2.80425251e-01,  1.75492182e-01,\n",
              "          5.85876644e-01,  2.79367983e-01,  3.97445410e-01,\n",
              "         -3.29568416e-01,  1.98988169e-01],\n",
              "        [ 1.23381019e-01, -3.29820335e-01,  9.04822052e-02,\n",
              "         -1.99838430e-01, -1.60327375e-01, -3.29103917e-01,\n",
              "         -2.99799114e-01,  3.19766730e-01,  1.75452441e-01,\n",
              "         -3.46823037e-01,  3.00696999e-01, -9.25129354e-02,\n",
              "         -2.69573331e-01,  2.34252214e-03,  2.70188004e-01,\n",
              "         -2.22166404e-01,  1.31783068e-01, -1.19884089e-01,\n",
              "         -1.70146734e-01,  2.51112610e-01,  1.62396461e-01,\n",
              "         -2.54207790e-01, -2.90436804e-01,  2.68647403e-01,\n",
              "         -2.53933668e-03,  1.56270891e-01, -1.26090392e-01,\n",
              "         -2.50500202e-01, -1.34718418e-03,  3.50738555e-01,\n",
              "         -1.70516446e-01,  3.15240115e-01],\n",
              "        [ 2.11589724e-01,  3.19376320e-01, -2.62149274e-01,\n",
              "         -2.60392755e-01,  8.81618559e-02,  2.20123857e-01,\n",
              "          1.30089790e-01, -3.13126564e-01, -2.90305793e-01,\n",
              "         -3.06225419e-02,  1.25449657e-01, -1.61545321e-01,\n",
              "          3.82976532e-02,  1.32770061e-01, -1.29542544e-01,\n",
              "          4.25586998e-02, -7.51964748e-02, -3.38498116e-01,\n",
              "          1.47847444e-01, -1.26234278e-01,  2.82500774e-01,\n",
              "         -2.70951033e-01, -3.31250548e-01, -2.75518745e-01,\n",
              "         -8.47712159e-02, -3.09439719e-01,  2.74280399e-01,\n",
              "         -3.35569233e-01,  1.20856673e-01,  3.14659327e-01,\n",
              "          2.33319968e-01, -3.50830197e-01],\n",
              "        [ 3.34531032e-02,  2.19999284e-01,  5.71931899e-02,\n",
              "          2.25234032e-03,  5.62779069e-01,  3.53900567e-02,\n",
              "         -2.87325829e-01,  4.26200777e-02, -4.74973708e-01,\n",
              "         -2.67099082e-01, -3.36618602e-01, -6.01249576e-01,\n",
              "         -4.92300332e-01,  5.93005717e-01, -3.19439471e-01,\n",
              "          2.58676618e-01, -3.70510161e-01, -2.03764841e-01,\n",
              "          4.48519230e-01,  5.81396073e-02,  7.62779936e-02,\n",
              "          1.16631627e-01,  1.57256737e-01,  1.85602397e-01,\n",
              "          1.58103675e-01, -1.39212117e-01, -2.53629740e-02,\n",
              "          6.01633132e-01,  7.11451918e-02,  4.28457558e-01,\n",
              "         -4.86485213e-01,  2.21457988e-01],\n",
              "        [-1.27121553e-01, -1.32731721e-01,  6.17772341e-01,\n",
              "          2.88549960e-02,  3.72858465e-01, -8.06098729e-02,\n",
              "         -4.67030466e-01,  2.60425478e-01, -3.68107557e-01,\n",
              "          1.20462477e-02, -2.37081293e-03, -5.19479692e-01,\n",
              "         -5.41979194e-01, -1.01712497e-03, -2.22197428e-01,\n",
              "         -3.11307609e-02, -1.71510965e-01, -4.34483200e-01,\n",
              "          1.77000165e-01, -3.66647840e-01,  3.49354558e-02,\n",
              "         -1.67671546e-01, -3.32334429e-01, -3.38793725e-01,\n",
              "          5.76151788e-01, -5.70403934e-01,  3.06641817e-01,\n",
              "          2.22793549e-01,  1.64750159e-01,  1.57961458e-01,\n",
              "         -1.91453934e-01, -6.11819625e-02]], dtype=float32),\n",
              " array([ 0.15743986,  0.        , -0.11576317,  0.        , -0.12189353,\n",
              "        -0.03334227,  0.15090276, -0.0290106 ,  0.25588602,  0.        ,\n",
              "        -0.0214458 ,  0.2443138 ,  0.2907898 , -0.15409178, -0.00053136,\n",
              "         0.        ,  0.2653252 ,  0.25079882, -0.1518777 ,  0.0649157 ,\n",
              "         0.11252016, -0.00188938, -0.03047325,  0.        , -0.12181403,\n",
              "         0.22990108, -0.00603913, -0.08962328, -0.00960886, -0.12686984,\n",
              "         0.31416112,  0.        ], dtype=float32),\n",
              " array([[ 0.6636753 , -0.5014588 ],\n",
              "        [-0.37131006, -0.08408383],\n",
              "        [-0.4634669 ,  0.31950685],\n",
              "        [-0.15762806,  0.04995471],\n",
              "        [-0.2515106 ,  0.6858719 ],\n",
              "        [ 0.35524017, -0.01588167],\n",
              "        [ 0.2558797 , -0.8071816 ],\n",
              "        [ 0.1050542 , -0.21051332],\n",
              "        [ 0.7875812 , -0.8376084 ],\n",
              "        [-0.02190068,  0.29773656],\n",
              "        [ 0.15482497,  0.31908935],\n",
              "        [ 0.6930164 , -0.8347953 ],\n",
              "        [ 1.0024498 , -0.2516109 ],\n",
              "        [-0.05318915,  0.5686821 ],\n",
              "        [-0.35141015, -0.21350265],\n",
              "        [-0.16612628,  0.0025008 ],\n",
              "        [ 0.97821593, -0.9287866 ],\n",
              "        [ 0.84115976, -0.89187306],\n",
              "        [-0.50578856,  0.10171989],\n",
              "        [ 0.04914378,  0.46224198],\n",
              "        [ 0.34110257, -0.3578171 ],\n",
              "        [-0.15903468,  0.09154475],\n",
              "        [-0.38268614,  0.33232385],\n",
              "        [ 0.03070959, -0.34496224],\n",
              "        [-0.29930505,  0.6588432 ],\n",
              "        [ 0.959624  , -0.844396  ],\n",
              "        [ 0.21064226,  0.20005573],\n",
              "        [-0.5913664 ,  0.49610454],\n",
              "        [ 0.34909186, -0.4059605 ],\n",
              "        [-0.53918165,  0.59583807],\n",
              "        [ 0.72966385, -0.5895562 ],\n",
              "        [ 0.21355358,  0.3073285 ]], dtype=float32),\n",
              " array([ 0.10480977, -0.10480979], dtype=float32)]"
            ]
          },
          "metadata": {},
          "execution_count": 67
        }
      ]
    },
    {
      "cell_type": "code",
      "source": [
        "new_model.optimizer"
      ],
      "metadata": {
        "colab": {
          "base_uri": "https://localhost:8080/"
        },
        "id": "cRehZreAVy3T",
        "outputId": "69d5f31a-9302-45cb-801b-27103428c0e6"
      },
      "execution_count": 68,
      "outputs": [
        {
          "output_type": "execute_result",
          "data": {
            "text/plain": [
              "<keras.optimizer_v2.adam.Adam at 0x7f88ac4d8d10>"
            ]
          },
          "metadata": {},
          "execution_count": 68
        }
      ]
    },
    {
      "cell_type": "code",
      "source": [
        ""
      ],
      "metadata": {
        "id": "z9wH9ML6V136"
      },
      "execution_count": null,
      "outputs": []
    }
  ]
}